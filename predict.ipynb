{
 "cells": [
  {
   "cell_type": "code",
   "execution_count": 37,
   "metadata": {},
   "outputs": [],
   "source": [
    "import numpy as np\n",
    "import pandas as pd\n",
    "from sklearn.impute import SimpleImputer\n",
    "from sklearn.preprocessing import StandardScaler, RobustScaler, MinMaxScaler\n",
    "import matplotlib.pyplot as plt\n",
    "from scipy import stats\n",
    "from imblearn.over_sampling import SMOTE\n",
    "# from sklearn.ensemble import RandomForestClassifier\n",
    "# from sklearn.svm import SVC\n",
    "from sklearn.metrics import confusion_matrix\n",
    "from sklearn.metrics import ConfusionMatrixDisplay\n",
    "from sklearn.model_selection import GridSearchCV\n",
    "from sklearn.model_selection import RepeatedStratifiedKFold\n",
    "from sklearn.pipeline import Pipeline\n",
    "from sklearn.tree import DecisionTreeClassifier\n",
    "\n",
    "\n",
    "import joblib"
   ]
  },
  {
   "cell_type": "code",
   "execution_count": 38,
   "metadata": {},
   "outputs": [],
   "source": [
    "# from zipfile import ZipFile\n",
    "# file_name = \"pickles.zip\"\n",
    "\n",
    "# with ZipFile(file_name, 'r') as zip:\n",
    "#     zip.extractall()\n",
    "#     print('Done')"
   ]
  },
  {
   "cell_type": "code",
   "execution_count": 39,
   "metadata": {},
   "outputs": [],
   "source": [
    "imp = joblib.load(\"pickles/imputer.pkl\")\n",
    "scaler = joblib.load(\"pickles/scaler.pkl\")\n",
    "bestclf = joblib.load(\"pickles/model.pkl\")"
   ]
  },
  {
   "cell_type": "code",
   "execution_count": 40,
   "metadata": {},
   "outputs": [],
   "source": [
    "test = pd.read_csv(\"test_set.csv\", sep = \",\")"
   ]
  },
  {
   "cell_type": "code",
   "execution_count": 41,
   "metadata": {},
   "outputs": [],
   "source": [
    "asia = [\"Philippines\", \"India\", \"South\", \"China\", \"Vietnam\", \"Japan\", \"Taiwan\", \"Iran\", \"Thailand\", \"Cambodia\", \"Laos\", \"Hong\"]\n",
    "europe = [\"Germany\", \"England\", \"Italy\", \"Poland\", \"Portugal\", \"Greece\", \"France\", \"Ireland\", \"Yugoslavia\", \"Hungary\", \"Scotland\", \"Netherlands\"]\n",
    "north_america = [\"USA\", \"Canada\"]\n",
    "central_america = [\"Mexico\", \"Puerto-Rico\", \"El-Salvador\", \"Cuba\", \"Jamaica\", \"Dominican-Republic\", \"Guatemala\", \"Haiti\", \"Nicaragua\", \"Caribbean\", \"Honduras\"]\n",
    "south_america = [\"Columbia\", \"Peru\", \"Ecuador\"]\n",
    "\n",
    "for i in range(len(test)):\n",
    "    if test.loc[i, \"F13\"] in asia:\n",
    "        test.F13.replace(test.loc[i, \"F13\"], \"asia\", inplace = True)\n",
    "    elif test.loc[i, \"F13\"] in europe:\n",
    "        test.F13.replace(test.loc[i, \"F13\"], \"europe\", inplace = True)\n",
    "    elif test.loc[i, \"F13\"] in north_america:\n",
    "        test.F13.replace(test.loc[i, \"F13\"], \"north_america\", inplace = True)\n",
    "    elif test.loc[i, \"F13\"] in central_america:\n",
    "        test.F13.replace(test.loc[i, \"F13\"], \"central_america\", inplace = True)\n",
    "    elif test.loc[i, \"F13\"] in south_america:\n",
    "        test.F13.replace(test.loc[i, \"F13\"], \"south_america\", inplace = True)       "
   ]
  },
  {
   "cell_type": "code",
   "execution_count": 42,
   "metadata": {},
   "outputs": [],
   "source": [
    "colF1 = ['K1', 'K2', 'K3', 'K4', 'K5', 'K6', 'K7', 'K8']\n",
    "colF3 = ['R1', 'R2', 'R3', 'R4', 'R5', 'R6', 'R7', 'R8', 'R9', 'R10', 'R11', 'R12', 'R13', 'R14', 'R15', 'R16']\n",
    "colF5 = ['Q1', 'Q2', 'Q3', 'Q4', 'Q5', 'Q6', 'Q7']\n",
    "colF6 = ['P1', 'P2', 'P3', 'P4', 'P5', 'P6', 'P7', 'P8', 'P9', 'P10', 'P11', 'P12', 'P13', 'P14']\n",
    "colF7 = ['M1', 'M2', 'M3', 'M4', 'M5', 'M6']\n",
    "colF8 = ['caucasian', 'black', 'asian', 'american', 'other']\n",
    "colF9 = ['Male', 'Female']\n",
    "colF13 = ['asia', 'europe', 'north_america', 'central_america', 'south_america']\n",
    "\n",
    "test.F1.replace(colF1, [0, 1, 2, 3, 4, 5, 6, 7], inplace = True)\n",
    "test.F3.replace(colF3, [0, 1, 2, 3, 4, 5, 6, 7, 8, 9, 10, 11, 12, 13, 14, 15], inplace = True)\n",
    "test.F5.replace(colF5, [0, 1, 2, 3, 4, 5, 6], inplace = True)\n",
    "test.F6.replace(colF6, [0, 1, 2, 3, 4, 5, 6, 7, 8, 9, 10, 11, 12, 13], inplace = True)\n",
    "test.F7.replace(colF7, [0, 1, 2, 3, 4, 5], inplace = True)\n",
    "test.F8.replace(colF8, [0, 1, 2, 3, 4], inplace = True)\n",
    "test.F9.replace(colF9, [0, 1], inplace = True)\n",
    "test.F13.replace(colF13, [0, 1, 2, 3, 4], inplace = True)"
   ]
  },
  {
   "cell_type": "code",
   "execution_count": 43,
   "metadata": {},
   "outputs": [
    {
     "name": "stdout",
     "output_type": "stream",
     "text": [
      "(4008, 14)\n",
      "(4008,)\n"
     ]
    }
   ],
   "source": [
    "x_test = test.iloc[:, :-1].values\n",
    "y_test = test.iloc[:, -1].values\n",
    "print(x_test.shape)\n",
    "print(y_test.shape)"
   ]
  },
  {
   "cell_type": "code",
   "execution_count": 44,
   "metadata": {},
   "outputs": [],
   "source": [
    "# Imputazione dei valori NaN tramite SimpleImputer, con la strategia che sostituisce i valori mancanti con la moda dei valori della feature\n",
    "# print(\"SimpleImputer\")\n",
    "# imp = SimpleImputer(missing_values = np.nan, strategy = 'most_frequent')\n",
    "# x_test_notnan = imp.transform(x_test)\n",
    "# print(x_test_notnan[pd.isna(x_test[:,0]),0][0:10])\n",
    "\n",
    "x_test_notnan = imp.transform(x_test)"
   ]
  },
  {
   "cell_type": "code",
   "execution_count": 45,
   "metadata": {},
   "outputs": [],
   "source": [
    "# Creazione DataFrame da insiemi di train e test dopo l'imputazione dei valori mancanti \n",
    "colF = ['F0','F1','F2','F3','F4','F5','F6','F7','F8','F9','F10','F11','F12','F13']\n",
    "\n",
    "test_set_df = pd.DataFrame(x_test_notnan, columns = colF)"
   ]
  },
  {
   "cell_type": "code",
   "execution_count": null,
   "metadata": {},
   "outputs": [],
   "source": [
    "categorical = ['F1','F3','F5','F6','F7','F8','F9','F13']\n",
    "data_x_categorical = pd.DataFrame()\n",
    "\n",
    "for i in categorical:\n",
    "    data_x_categorical=pd.concat([data_x_categorical, training_set_df[i]], axis= 1)\n",
    "\n",
    "one_hot_encoder = OneHotEncoder(drop='first') # rimuovo una variabile dummy per ogni feature categorica in modo da non avere collinearità\n",
    "one_hot_encoder.fit(data_x_categorical)\n",
    "transformed = one_hot_encoder.transform(data_x_categorical)\n",
    "data_x_categorical = pd.DataFrame(transformed.toarray(), columns=one_hot_encoder.get_feature_names(), index = data_x_categorical.index)\n"
   ]
  },
  {
   "cell_type": "code",
   "execution_count": 46,
   "metadata": {},
   "outputs": [],
   "source": [
    "# Codifica OneHot contemporaneamente su training_set_df e test_set_df\n",
    "OneHotTestF1 = pd.get_dummies(test_set_df.F1, columns = colF1)\n",
    "OneHotTestF3 = pd.get_dummies(test_set_df.F3, columns = colF3)\n",
    "OneHotTestF5 = pd.get_dummies(test_set_df.F5, columns = colF5)\n",
    "OneHotTestF6 = pd.get_dummies(test_set_df.F6, columns = colF6)\n",
    "OneHotTestF7 = pd.get_dummies(test_set_df.F7, columns = colF7)\n",
    "OneHotTestF8 = pd.get_dummies(test_set_df.F8, columns = colF8)\n",
    "OneHotTestF9 = pd.get_dummies(test_set_df.F9, columns = colF9)\n",
    "OneHotTestF13 = pd.get_dummies(test_set_df.F13, columns = colF13)\n",
    "\n",
    "for i in range (0, len(colF1)):\n",
    "    OneHotTestF1 = OneHotTestF1.rename(columns = {i: colF1[i]})\n",
    "for i in range (0, len(colF3)):\n",
    "    OneHotTestF3 = OneHotTestF3.rename(columns = {i: colF3[i]})\n",
    "for i in range (0, len(colF5)):\n",
    "    OneHotTestF5 = OneHotTestF5.rename(columns = {i: colF5[i]})\n",
    "for i in range (0, len(colF6)):\n",
    "    OneHotTestF6 = OneHotTestF6.rename(columns = {i: colF6[i]})\n",
    "for i in range (0, len(colF7)):\n",
    "    OneHotTestF7 = OneHotTestF7.rename(columns = {i: colF7[i]})\n",
    "for i in range (0, len(colF8)):\n",
    "    OneHotTestF8 = OneHotTestF8.rename(columns = {i: colF8[i]})\n",
    "for i in range (0, len(colF9)):\n",
    "    OneHotTestF9 = OneHotTestF9.rename(columns = {i: colF9[i]})\n",
    "for i in range (0, len(colF13)):\n",
    "    OneHotTestF13 = OneHotTestF13.rename(columns = {i: colF13[i]})"
   ]
  },
  {
   "cell_type": "code",
   "execution_count": 47,
   "metadata": {},
   "outputs": [],
   "source": [
    "# Creazione newdf e newdftest con la sostituzione delle colonne generate con la codifica\n",
    "test_set_df = pd.concat([test_set_df, OneHotTestF1, OneHotTestF3, OneHotTestF5, OneHotTestF6, OneHotTestF7, OneHotTestF8, OneHotTestF9, OneHotTestF13], axis = 1)\n",
    " \n",
    "test_set_df = test_set_df.drop([\"F1\", \"F3\", \"F5\", \"F6\", \"F7\", \"F8\", \"F9\", \"F13\"], axis = 1)"
   ]
  },
  {
   "cell_type": "code",
   "execution_count": 34,
   "metadata": {},
   "outputs": [
    {
     "name": "stdout",
     "output_type": "stream",
     "text": [
      "(4008, 14)\n"
     ]
    }
   ],
   "source": [
    "print(x_test_notnan.shape)"
   ]
  },
  {
   "cell_type": "code",
   "execution_count": 48,
   "metadata": {},
   "outputs": [
    {
     "name": "stdout",
     "output_type": "stream",
     "text": [
      "(4008, 68)\n"
     ]
    }
   ],
   "source": [
    "x_test_notnan = test_set_df.values\n",
    "print(x_test_notnan.shape)\n",
    "# y_train = training_target_df.iloc[:, -1].values\n",
    "# print(y_train.shape)"
   ]
  },
  {
   "cell_type": "code",
   "execution_count": 36,
   "metadata": {},
   "outputs": [
    {
     "ename": "ValueError",
     "evalue": "X has 68 features, but StandardScaler is expecting 69 features as input.",
     "output_type": "error",
     "traceback": [
      "\u001b[1;31m---------------------------------------------------------------------------\u001b[0m",
      "\u001b[1;31mValueError\u001b[0m                                Traceback (most recent call last)",
      "\u001b[1;32mc:\\Users\\tagli\\Desktop\\mobdproject\\predict.ipynb Cella 14\u001b[0m in \u001b[0;36m<cell line: 1>\u001b[1;34m()\u001b[0m\n\u001b[1;32m----> <a href='vscode-notebook-cell:/c%3A/Users/tagli/Desktop/mobdproject/predict.ipynb#ch0000014?line=0'>1</a>\u001b[0m x_test_scaled \u001b[39m=\u001b[39m scaler\u001b[39m.\u001b[39;49mtransform(x_test_notnan)\n",
      "File \u001b[1;32mc:\\Users\\tagli\\anaconda3\\lib\\site-packages\\sklearn\\preprocessing\\_data.py:973\u001b[0m, in \u001b[0;36mStandardScaler.transform\u001b[1;34m(self, X, copy)\u001b[0m\n\u001b[0;32m    970\u001b[0m check_is_fitted(\u001b[39mself\u001b[39m)\n\u001b[0;32m    972\u001b[0m copy \u001b[39m=\u001b[39m copy \u001b[39mif\u001b[39;00m copy \u001b[39mis\u001b[39;00m \u001b[39mnot\u001b[39;00m \u001b[39mNone\u001b[39;00m \u001b[39melse\u001b[39;00m \u001b[39mself\u001b[39m\u001b[39m.\u001b[39mcopy\n\u001b[1;32m--> 973\u001b[0m X \u001b[39m=\u001b[39m \u001b[39mself\u001b[39;49m\u001b[39m.\u001b[39;49m_validate_data(\n\u001b[0;32m    974\u001b[0m     X,\n\u001b[0;32m    975\u001b[0m     reset\u001b[39m=\u001b[39;49m\u001b[39mFalse\u001b[39;49;00m,\n\u001b[0;32m    976\u001b[0m     accept_sparse\u001b[39m=\u001b[39;49m\u001b[39m\"\u001b[39;49m\u001b[39mcsr\u001b[39;49m\u001b[39m\"\u001b[39;49m,\n\u001b[0;32m    977\u001b[0m     copy\u001b[39m=\u001b[39;49mcopy,\n\u001b[0;32m    978\u001b[0m     estimator\u001b[39m=\u001b[39;49m\u001b[39mself\u001b[39;49m,\n\u001b[0;32m    979\u001b[0m     dtype\u001b[39m=\u001b[39;49mFLOAT_DTYPES,\n\u001b[0;32m    980\u001b[0m     force_all_finite\u001b[39m=\u001b[39;49m\u001b[39m\"\u001b[39;49m\u001b[39mallow-nan\u001b[39;49m\u001b[39m\"\u001b[39;49m,\n\u001b[0;32m    981\u001b[0m )\n\u001b[0;32m    983\u001b[0m \u001b[39mif\u001b[39;00m sparse\u001b[39m.\u001b[39missparse(X):\n\u001b[0;32m    984\u001b[0m     \u001b[39mif\u001b[39;00m \u001b[39mself\u001b[39m\u001b[39m.\u001b[39mwith_mean:\n",
      "File \u001b[1;32mc:\\Users\\tagli\\anaconda3\\lib\\site-packages\\sklearn\\base.py:585\u001b[0m, in \u001b[0;36mBaseEstimator._validate_data\u001b[1;34m(self, X, y, reset, validate_separately, **check_params)\u001b[0m\n\u001b[0;32m    582\u001b[0m     out \u001b[39m=\u001b[39m X, y\n\u001b[0;32m    584\u001b[0m \u001b[39mif\u001b[39;00m \u001b[39mnot\u001b[39;00m no_val_X \u001b[39mand\u001b[39;00m check_params\u001b[39m.\u001b[39mget(\u001b[39m\"\u001b[39m\u001b[39mensure_2d\u001b[39m\u001b[39m\"\u001b[39m, \u001b[39mTrue\u001b[39;00m):\n\u001b[1;32m--> 585\u001b[0m     \u001b[39mself\u001b[39;49m\u001b[39m.\u001b[39;49m_check_n_features(X, reset\u001b[39m=\u001b[39;49mreset)\n\u001b[0;32m    587\u001b[0m \u001b[39mreturn\u001b[39;00m out\n",
      "File \u001b[1;32mc:\\Users\\tagli\\anaconda3\\lib\\site-packages\\sklearn\\base.py:400\u001b[0m, in \u001b[0;36mBaseEstimator._check_n_features\u001b[1;34m(self, X, reset)\u001b[0m\n\u001b[0;32m    397\u001b[0m     \u001b[39mreturn\u001b[39;00m\n\u001b[0;32m    399\u001b[0m \u001b[39mif\u001b[39;00m n_features \u001b[39m!=\u001b[39m \u001b[39mself\u001b[39m\u001b[39m.\u001b[39mn_features_in_:\n\u001b[1;32m--> 400\u001b[0m     \u001b[39mraise\u001b[39;00m \u001b[39mValueError\u001b[39;00m(\n\u001b[0;32m    401\u001b[0m         \u001b[39mf\u001b[39m\u001b[39m\"\u001b[39m\u001b[39mX has \u001b[39m\u001b[39m{\u001b[39;00mn_features\u001b[39m}\u001b[39;00m\u001b[39m features, but \u001b[39m\u001b[39m{\u001b[39;00m\u001b[39mself\u001b[39m\u001b[39m.\u001b[39m\u001b[39m__class__\u001b[39m\u001b[39m.\u001b[39m\u001b[39m__name__\u001b[39m\u001b[39m}\u001b[39;00m\u001b[39m \u001b[39m\u001b[39m\"\u001b[39m\n\u001b[0;32m    402\u001b[0m         \u001b[39mf\u001b[39m\u001b[39m\"\u001b[39m\u001b[39mis expecting \u001b[39m\u001b[39m{\u001b[39;00m\u001b[39mself\u001b[39m\u001b[39m.\u001b[39mn_features_in_\u001b[39m}\u001b[39;00m\u001b[39m features as input.\u001b[39m\u001b[39m\"\u001b[39m\n\u001b[0;32m    403\u001b[0m     )\n",
      "\u001b[1;31mValueError\u001b[0m: X has 68 features, but StandardScaler is expecting 69 features as input."
     ]
    }
   ],
   "source": [
    "x_test_scaled = scaler.transform(x_test_notnan)"
   ]
  },
  {
   "cell_type": "code",
   "execution_count": 15,
   "metadata": {},
   "outputs": [],
   "source": [
    "y_pred = bestclf.predict(x_test_scaled)"
   ]
  },
  {
   "cell_type": "code",
   "execution_count": 16,
   "metadata": {},
   "outputs": [
    {
     "name": "stdout",
     "output_type": "stream",
     "text": [
      "0.8969817909703168\n"
     ]
    },
    {
     "data": {
      "image/png": "[encoded data removed]",
      "text/plain": [
       "<Figure size 432x288 with 2 Axes>"
      ]
     },
     "metadata": {
      "needs_background": "light"
     },
     "output_type": "display_data"
    }
   ],
   "source": [
    "CM_ADA = confusion_matrix(y_test, y_pred)\n",
    "PercADA = (CM_ADA[0,0] + CM_ADA[1,1])/CM_ADA.sum()\n",
    "\n",
    "cmd = ConfusionMatrixDisplay(CM_ADA)\n",
    "cmd.plot(cmap = \"Oranges\")\n",
    "\n",
    "print(PercADA)"
   ]
  }
 ],
 "metadata": {
  "kernelspec": {
   "display_name": "Python 3.9.12 ('base')",
   "language": "python",
   "name": "python3"
  },
  "language_info": {
   "codemirror_mode": {
    "name": "ipython",
    "version": 3
   },
   "file_extension": ".py",
   "mimetype": "text/x-python",
   "name": "python",
   "nbconvert_exporter": "python",
   "pygments_lexer": "ipython3",
   "version": "3.9.12"
  },
  "orig_nbformat": 4,
  "vscode": {
   "interpreter": {
    "hash": "b304063b9b5915891955c97f76410147208ba9c12388cc88c2e2efd4c5613ee8"
   }
  }
 },
 "nbformat": 4,
 "nbformat_minor": 2
}
