{
 "cells": [
  {
   "cell_type": "markdown",
   "metadata": {},
   "source": [
    "# Progetto MOBD 2022\n",
    "## Valerio Famoso 0299845 - Tiziano Taglienti 0304926\n",
    "\n",
    "Lo svolgimento del progetto comprende una fase di lettura del dataset fornito (file *train.csv*) e del test set che verrà usato per la valutazione.\n",
    "\n",
    "La fase di preprocessing comprenderà pulizia e riorganizzazione del training set.\n",
    "\n",
    "Infine viene illustrata la routine di addestramento che, durante la fase di implementazione, ha fornito risultati migliori. Sono stati impostati gli iperparametri a seguito di una fase di model selection."
   ]
  },
  {
   "cell_type": "markdown",
   "metadata": {},
   "source": [
    "## Indice\n",
    "\n",
    "### • Caricamento e pulizia dataset\n",
    "- Conversione feature categoriche\n",
    "- Imputazione valori NaN\n",
    "- Codifica OneHot\n",
    "\n",
    "### • Preprocessing\n",
    "- Individuazione e rimozione degli outlier\n",
    "- Bilanciamento\n",
    "- Scaling\n",
    "\n",
    "### • Classificazione\n",
    "- AdaBoost"
   ]
  },
  {
   "cell_type": "markdown",
   "metadata": {},
   "source": [
    "### Caricamento e pulizia dataset\n",
    "Per la lettura del file *test_set.csv* cambiare il separatore opportunamente."
   ]
  },
  {
   "cell_type": "code",
   "execution_count": 3,
   "metadata": {},
   "outputs": [
    {
     "data": {
      "text/html": [
       "<div>\n",
       "<style scoped>\n",
       "    .dataframe tbody tr th:only-of-type {\n",
       "        vertical-align: middle;\n",
       "    }\n",
       "\n",
       "    .dataframe tbody tr th {\n",
       "        vertical-align: top;\n",
       "    }\n",
       "\n",
       "    .dataframe thead th {\n",
       "        text-align: right;\n",
       "    }\n",
       "</style>\n",
       "<table border=\"1\" class=\"dataframe\">\n",
       "  <thead>\n",
       "    <tr style=\"text-align: right;\">\n",
       "      <th></th>\n",
       "      <th>F0</th>\n",
       "      <th>F1</th>\n",
       "      <th>F2</th>\n",
       "      <th>F3</th>\n",
       "      <th>F4</th>\n",
       "      <th>F5</th>\n",
       "      <th>F6</th>\n",
       "      <th>F7</th>\n",
       "      <th>F8</th>\n",
       "      <th>F9</th>\n",
       "      <th>F10</th>\n",
       "      <th>F11</th>\n",
       "      <th>F12</th>\n",
       "      <th>F13</th>\n",
       "      <th>Y</th>\n",
       "    </tr>\n",
       "  </thead>\n",
       "  <tbody>\n",
       "    <tr>\n",
       "      <th>0</th>\n",
       "      <td>39</td>\n",
       "      <td>K1</td>\n",
       "      <td>77516</td>\n",
       "      <td>R1</td>\n",
       "      <td>13</td>\n",
       "      <td>Q1</td>\n",
       "      <td>P1</td>\n",
       "      <td>M1</td>\n",
       "      <td>caucasian</td>\n",
       "      <td>Male</td>\n",
       "      <td>2174</td>\n",
       "      <td>0</td>\n",
       "      <td>40</td>\n",
       "      <td>USA</td>\n",
       "      <td>0</td>\n",
       "    </tr>\n",
       "    <tr>\n",
       "      <th>1</th>\n",
       "      <td>50</td>\n",
       "      <td>K2</td>\n",
       "      <td>83311</td>\n",
       "      <td>R1</td>\n",
       "      <td>13</td>\n",
       "      <td>Q2</td>\n",
       "      <td>P2</td>\n",
       "      <td>M2</td>\n",
       "      <td>caucasian</td>\n",
       "      <td>Male</td>\n",
       "      <td>0</td>\n",
       "      <td>0</td>\n",
       "      <td>13</td>\n",
       "      <td>USA</td>\n",
       "      <td>0</td>\n",
       "    </tr>\n",
       "    <tr>\n",
       "      <th>2</th>\n",
       "      <td>38</td>\n",
       "      <td>K3</td>\n",
       "      <td>215646</td>\n",
       "      <td>R2</td>\n",
       "      <td>9</td>\n",
       "      <td>Q3</td>\n",
       "      <td>P3</td>\n",
       "      <td>M1</td>\n",
       "      <td>caucasian</td>\n",
       "      <td>Male</td>\n",
       "      <td>0</td>\n",
       "      <td>0</td>\n",
       "      <td>40</td>\n",
       "      <td>USA</td>\n",
       "      <td>0</td>\n",
       "    </tr>\n",
       "    <tr>\n",
       "      <th>3</th>\n",
       "      <td>53</td>\n",
       "      <td>K3</td>\n",
       "      <td>234721</td>\n",
       "      <td>R3</td>\n",
       "      <td>7</td>\n",
       "      <td>Q2</td>\n",
       "      <td>P3</td>\n",
       "      <td>M2</td>\n",
       "      <td>black</td>\n",
       "      <td>Male</td>\n",
       "      <td>0</td>\n",
       "      <td>0</td>\n",
       "      <td>40</td>\n",
       "      <td>USA</td>\n",
       "      <td>0</td>\n",
       "    </tr>\n",
       "    <tr>\n",
       "      <th>4</th>\n",
       "      <td>28</td>\n",
       "      <td>K3</td>\n",
       "      <td>338409</td>\n",
       "      <td>R1</td>\n",
       "      <td>13</td>\n",
       "      <td>Q2</td>\n",
       "      <td>P4</td>\n",
       "      <td>M3</td>\n",
       "      <td>black</td>\n",
       "      <td>Female</td>\n",
       "      <td>0</td>\n",
       "      <td>0</td>\n",
       "      <td>40</td>\n",
       "      <td>Cuba</td>\n",
       "      <td>0</td>\n",
       "    </tr>\n",
       "  </tbody>\n",
       "</table>\n",
       "</div>"
      ],
      "text/plain": [
       "   F0  F1      F2  F3  F4  F5  F6  F7         F8      F9   F10  F11  F12  \\\n",
       "0  39  K1   77516  R1  13  Q1  P1  M1  caucasian    Male  2174    0   40   \n",
       "1  50  K2   83311  R1  13  Q2  P2  M2  caucasian    Male     0    0   13   \n",
       "2  38  K3  215646  R2   9  Q3  P3  M1  caucasian    Male     0    0   40   \n",
       "3  53  K3  234721  R3   7  Q2  P3  M2      black    Male     0    0   40   \n",
       "4  28  K3  338409  R1  13  Q2  P4  M3      black  Female     0    0   40   \n",
       "\n",
       "    F13  Y  \n",
       "0   USA  0  \n",
       "1   USA  0  \n",
       "2   USA  0  \n",
       "3   USA  0  \n",
       "4  Cuba  0  "
      ]
     },
     "execution_count": 3,
     "metadata": {},
     "output_type": "execute_result"
    }
   ],
   "source": [
    "import numpy as np\n",
    "import pandas as pd\n",
    "from sklearn.impute import SimpleImputer\n",
    "from sklearn.preprocessing import StandardScaler, RobustScaler, MinMaxScaler\n",
    "import matplotlib.pyplot as plt\n",
    "from scipy import stats\n",
    "from imblearn.over_sampling import SMOTE\n",
    "# from sklearn.ensemble import RandomForestClassifier\n",
    "# from sklearn.svm import SVC\n",
    "from sklearn.metrics import confusion_matrix\n",
    "from sklearn.metrics import ConfusionMatrixDisplay\n",
    "from sklearn.model_selection import GridSearchCV\n",
    "from sklearn.model_selection import RepeatedStratifiedKFold\n",
    "\n",
    "# Lettura dataset e test set\n",
    "data = pd.read_csv(\"train.csv\", sep = \",\")\n",
    "test = pd.read_csv(\"test_set.csv\", sep = \",\")\n",
    "data.head()"
   ]
  },
  {
   "cell_type": "markdown",
   "metadata": {},
   "source": [
    "Nel file ci sono alcune feature con valore NaN."
   ]
  },
  {
   "cell_type": "code",
   "execution_count": 2,
   "metadata": {},
   "outputs": [
    {
     "ename": "NameError",
     "evalue": "name 'data' is not defined",
     "output_type": "error",
     "traceback": [
      "\u001b[1;31m---------------------------------------------------------------------------\u001b[0m",
      "\u001b[1;31mNameError\u001b[0m                                 Traceback (most recent call last)",
      "\u001b[1;32mc:\\Users\\tagli\\Desktop\\mobdproject\\mobdproject.ipynb Cella 6\u001b[0m in \u001b[0;36m<cell line: 1>\u001b[1;34m()\u001b[0m\n\u001b[1;32m----> <a href='vscode-notebook-cell:/c%3A/Users/tagli/Desktop/mobdproject/mobdproject.ipynb#ch0000005?line=0'>1</a>\u001b[0m data\u001b[39m.\u001b[39misna()\u001b[39m.\u001b[39msum()\n",
      "\u001b[1;31mNameError\u001b[0m: name 'data' is not defined"
     ]
    }
   ],
   "source": [
    "data.isna().sum()\n",
    "# Bisogna imputare i valori NaN"
   ]
  },
  {
   "cell_type": "code",
   "execution_count": 3,
   "metadata": {},
   "outputs": [
    {
     "data": {
      "text/html": [
       "<div>\n",
       "<style scoped>\n",
       "    .dataframe tbody tr th:only-of-type {\n",
       "        vertical-align: middle;\n",
       "    }\n",
       "\n",
       "    .dataframe tbody tr th {\n",
       "        vertical-align: top;\n",
       "    }\n",
       "\n",
       "    .dataframe thead th {\n",
       "        text-align: right;\n",
       "    }\n",
       "</style>\n",
       "<table border=\"1\" class=\"dataframe\">\n",
       "  <thead>\n",
       "    <tr style=\"text-align: right;\">\n",
       "      <th></th>\n",
       "      <th>F0</th>\n",
       "      <th>F1</th>\n",
       "      <th>F2</th>\n",
       "      <th>F3</th>\n",
       "      <th>F4</th>\n",
       "      <th>F5</th>\n",
       "      <th>F6</th>\n",
       "      <th>F7</th>\n",
       "      <th>F8</th>\n",
       "      <th>F9</th>\n",
       "      <th>F10</th>\n",
       "      <th>F11</th>\n",
       "      <th>F12</th>\n",
       "      <th>F13</th>\n",
       "      <th>Y</th>\n",
       "    </tr>\n",
       "  </thead>\n",
       "  <tbody>\n",
       "    <tr>\n",
       "      <th>0</th>\n",
       "      <td>39</td>\n",
       "      <td>K3</td>\n",
       "      <td>30269</td>\n",
       "      <td>R8</td>\n",
       "      <td>11</td>\n",
       "      <td>Q3</td>\n",
       "      <td>P6</td>\n",
       "      <td>M5</td>\n",
       "      <td>caucasian</td>\n",
       "      <td>Female</td>\n",
       "      <td>0</td>\n",
       "      <td>0</td>\n",
       "      <td>40</td>\n",
       "      <td>USA</td>\n",
       "      <td>0</td>\n",
       "    </tr>\n",
       "    <tr>\n",
       "      <th>1</th>\n",
       "      <td>42</td>\n",
       "      <td>K3</td>\n",
       "      <td>204235</td>\n",
       "      <td>R6</td>\n",
       "      <td>10</td>\n",
       "      <td>Q2</td>\n",
       "      <td>P4</td>\n",
       "      <td>M2</td>\n",
       "      <td>caucasian</td>\n",
       "      <td>Male</td>\n",
       "      <td>0</td>\n",
       "      <td>0</td>\n",
       "      <td>40</td>\n",
       "      <td>USA</td>\n",
       "      <td>1</td>\n",
       "    </tr>\n",
       "    <tr>\n",
       "      <th>2</th>\n",
       "      <td>46</td>\n",
       "      <td>K5</td>\n",
       "      <td>209057</td>\n",
       "      <td>R4</td>\n",
       "      <td>14</td>\n",
       "      <td>Q2</td>\n",
       "      <td>P2</td>\n",
       "      <td>M2</td>\n",
       "      <td>caucasian</td>\n",
       "      <td>Male</td>\n",
       "      <td>0</td>\n",
       "      <td>0</td>\n",
       "      <td>50</td>\n",
       "      <td>USA</td>\n",
       "      <td>1</td>\n",
       "    </tr>\n",
       "    <tr>\n",
       "      <th>3</th>\n",
       "      <td>73</td>\n",
       "      <td>K3</td>\n",
       "      <td>349347</td>\n",
       "      <td>R9</td>\n",
       "      <td>4</td>\n",
       "      <td>Q2</td>\n",
       "      <td>P3</td>\n",
       "      <td>M2</td>\n",
       "      <td>caucasian</td>\n",
       "      <td>Male</td>\n",
       "      <td>0</td>\n",
       "      <td>0</td>\n",
       "      <td>25</td>\n",
       "      <td>USA</td>\n",
       "      <td>0</td>\n",
       "    </tr>\n",
       "    <tr>\n",
       "      <th>4</th>\n",
       "      <td>47</td>\n",
       "      <td>K5</td>\n",
       "      <td>154033</td>\n",
       "      <td>R6</td>\n",
       "      <td>10</td>\n",
       "      <td>Q3</td>\n",
       "      <td>P4</td>\n",
       "      <td>M1</td>\n",
       "      <td>caucasian</td>\n",
       "      <td>Female</td>\n",
       "      <td>0</td>\n",
       "      <td>1876</td>\n",
       "      <td>40</td>\n",
       "      <td>USA</td>\n",
       "      <td>0</td>\n",
       "    </tr>\n",
       "  </tbody>\n",
       "</table>\n",
       "</div>"
      ],
      "text/plain": [
       "   F0  F1      F2  F3  F4  F5  F6  F7         F8      F9  F10   F11  F12  F13  \\\n",
       "0  39  K3   30269  R8  11  Q3  P6  M5  caucasian  Female    0     0   40  USA   \n",
       "1  42  K3  204235  R6  10  Q2  P4  M2  caucasian    Male    0     0   40  USA   \n",
       "2  46  K5  209057  R4  14  Q2  P2  M2  caucasian    Male    0     0   50  USA   \n",
       "3  73  K3  349347  R9   4  Q2  P3  M2  caucasian    Male    0     0   25  USA   \n",
       "4  47  K5  154033  R6  10  Q3  P4  M1  caucasian  Female    0  1876   40  USA   \n",
       "\n",
       "   Y  \n",
       "0  0  \n",
       "1  1  \n",
       "2  1  \n",
       "3  0  \n",
       "4  0  "
      ]
     },
     "execution_count": 3,
     "metadata": {},
     "output_type": "execute_result"
    }
   ],
   "source": [
    "test.head()"
   ]
  },
  {
   "cell_type": "markdown",
   "metadata": {},
   "source": [
    "#### Conversione feature categoriche\n",
    "A ogni valore delle feature categoriche viene assegnato un valore numerico tramite la funzione *replace*. L'operazione viene fatta su entrambi i dataframe."
   ]
  },
  {
   "cell_type": "code",
   "execution_count": 4,
   "metadata": {},
   "outputs": [],
   "source": [
    "# Array con il nome delle colonne del DataFrame\n",
    "colF = ['F0','F1','F2','F3','F4','F5','F6','F7','F8','F9','F10','F11','F12','F13']\n",
    "\n",
    "##### CRIS DICE DI USARE LABEL ENCODER E NON FARLO A MANO\n",
    "\n",
    "# Colonne feature categoriche\n",
    "colF1 = ['K1', 'K2', 'K3', 'K4', 'K5', 'K6', 'K7', 'K8']\n",
    "colF3 = ['R1', 'R2', 'R3', 'R4', 'R5', 'R6', 'R7', 'R8', 'R9', 'R10', 'R11', 'R12', 'R13', 'R14', 'R15', 'R16']\n",
    "colF5 = ['Q1', 'Q2', 'Q3', 'Q4', 'Q5', 'Q6', 'Q7']\n",
    "colF6 = ['P1', 'P2', 'P3', 'P4', 'P5', 'P6', 'P7', 'P8', 'P9', 'P10', 'P11', 'P12', 'P13', 'P14']\n",
    "colF7 = ['M1', 'M2', 'M3', 'M4', 'M5', 'M6']\n",
    "colF8 = ['caucasian', 'black', 'asian', 'american', 'other']\n",
    "colF9 = ['Male', 'Female']\n",
    "colF13 = ['USA', 'Mexico', 'Philippines', 'Germany', 'Canada', 'Puerto-Rico', 'El-Salvador', 'India', 'Cuba', 'England', 'Jamaica', 'South', 'China', 'Italy', 'Dominican-Republic', 'Vietnam', 'Guatemala', 'Japan', 'Poland', 'Columbia', 'Taiwan', 'Haiti', 'Iran', 'Portugal', 'Nicaragua', 'Peru', 'France', 'Greece', 'Ecuador', 'Ireland', 'Hong', 'Cambodia', 'Caribbean', 'Thailand', 'Laos', 'Yugoslavia', 'Honduras', 'Hungary', 'Scotland', 'Netherlands']\n",
    "\n",
    "# Codifica delle feature categoriche\n",
    "data.F1.replace(colF1, [0, 1, 2, 3, 4, 5, 6, 7], inplace = True)\n",
    "data.F3.replace(colF3, [0, 1, 2, 3, 4, 5, 6, 7, 8, 9, 10, 11, 12, 13, 14, 15], inplace = True)\n",
    "data.F5.replace(colF5, [0, 1, 2, 3, 4, 5, 6], inplace = True)\n",
    "data.F6.replace(colF6, [0, 1, 2, 3, 4, 5, 6, 7, 8, 9, 10, 11, 12, 13], inplace = True)\n",
    "data.F7.replace(colF7, [0, 1, 2, 3, 4, 5], inplace = True)\n",
    "data.F8.replace(colF8, [0, 1, 2, 3, 4], inplace = True)\n",
    "data.F9.replace(colF9, [0, 1], inplace = True)\n",
    "data.F13.replace(colF13, [0, 1, 2, 3, 4, 5, 6, 7, 8, 9, 10, 11, 12, 13, 14, 15, 16, 17, 18, 19, 20, 21, 22, 23, 24, 25, 26, 27, 28, 29, 30, 31, 32, 33, 34, 35, 36, 37, 38, 39], inplace = True)\n",
    "\n",
    "\n",
    "test.F1.replace(colF1, [0, 1, 2, 3, 4, 5, 6, 7], inplace = True)\n",
    "test.F3.replace(colF3, [0, 1, 2, 3, 4, 5, 6, 7, 8, 9, 10, 11, 12, 13, 14, 15], inplace = True)\n",
    "test.F5.replace(colF5, [0, 1, 2, 3, 4, 5, 6], inplace = True)\n",
    "test.F6.replace(colF6, [0, 1, 2, 3, 4, 5, 6, 7, 8, 9, 10, 11, 12, 13], inplace = True)\n",
    "test.F7.replace(colF7, [0, 1, 2, 3, 4, 5], inplace = True)\n",
    "test.F8.replace(colF8, [0, 1, 2, 3, 4], inplace = True)\n",
    "test.F9.replace(colF9, [0, 1], inplace = True)\n",
    "test.F13.replace(colF13, [0, 1, 2, 3, 4, 5, 6, 7, 8, 9, 10, 11, 12, 13, 14, 15, 16, 17, 18, 19, 20, 21, 22, 23, 24, 25, 26, 27, 28, 29, 30, 31, 32, 33, 34, 35, 36, 37, 38, 39], inplace = True)"
   ]
  },
  {
   "cell_type": "markdown",
   "metadata": {},
   "source": [
    "Suddivisione tra insieme di punti (x) e target (y)."
   ]
  },
  {
   "cell_type": "code",
   "execution_count": 5,
   "metadata": {},
   "outputs": [
    {
     "name": "stdout",
     "output_type": "stream",
     "text": [
      "(28521, 14)\n",
      "(28521,)\n",
      "(4040, 14)\n",
      "(4040,)\n"
     ]
    }
   ],
   "source": [
    "# Suddivisione del target dal resto delle feature\n",
    "x_train = data.iloc[:, :-1].values\n",
    "y_train = data.iloc[:, -1].values\n",
    "print(x_train.shape)\n",
    "print(y_train.shape)\n",
    "\n",
    "x_test = test.iloc[:, :-1].values\n",
    "y_test = test.iloc[:, -1].values\n",
    "print(x_test.shape)\n",
    "print(y_test.shape)"
   ]
  },
  {
   "cell_type": "markdown",
   "metadata": {},
   "source": [
    "Di nuovo si vede che tra i punti, alcuni compaiono con valore NaN."
   ]
  },
  {
   "cell_type": "code",
   "execution_count": 6,
   "metadata": {},
   "outputs": [
    {
     "data": {
      "text/plain": [
       "array([[   14,    13],\n",
       "       [   27,     1],\n",
       "       [   27,     6],\n",
       "       ...,\n",
       "       [28503,     1],\n",
       "       [28503,     6],\n",
       "       [28505,    13]], dtype=int64)"
      ]
     },
     "execution_count": 6,
     "metadata": {},
     "output_type": "execute_result"
    }
   ],
   "source": [
    "np.argwhere(np.isnan(x_train))"
   ]
  },
  {
   "cell_type": "code",
   "execution_count": 7,
   "metadata": {},
   "outputs": [
    {
     "data": {
      "text/plain": [
       "array([[  22,    1],\n",
       "       [  22,    6],\n",
       "       [  27,    1],\n",
       "       ...,\n",
       "       [4020,    6],\n",
       "       [4021,    1],\n",
       "       [4021,    6]], dtype=int64)"
      ]
     },
     "execution_count": 7,
     "metadata": {},
     "output_type": "execute_result"
    }
   ],
   "source": [
    "np.argwhere(np.isnan(x_test))"
   ]
  },
  {
   "cell_type": "markdown",
   "metadata": {},
   "source": [
    "#### Imputazione valori NaN\n",
    "In questa fase si sfrutta *SimpleImputer* per sostituire i valori NaN seguendo una strategia *most_frequent*.\n",
    "Quest'ultima è stata preferita alle alternative perché considerata più adatta agli scopi e meno onerosa."
   ]
  },
  {
   "cell_type": "code",
   "execution_count": 8,
   "metadata": {},
   "outputs": [
    {
     "name": "stdout",
     "output_type": "stream",
     "text": [
      "SimpleImputer\n",
      "[]\n",
      "[]\n"
     ]
    }
   ],
   "source": [
    "# Imputazione dei valori NaN tramite SimpleImputer, con la strategia che sostituisce i valori mancanti con la moda dei valori della feature\n",
    "print(\"SimpleImputer\")\n",
    "imp = SimpleImputer(missing_values = np.nan, strategy = 'most_frequent')\n",
    "x_train_notnan = imp.fit_transform(x_train)\n",
    "x_test_notnan = imp.transform(x_test)\n",
    "print(x_train_notnan[pd.isna(x_train[:,0]),0][0:10])\n",
    "print(x_test_notnan[pd.isna(x_test[:,0]),0][0:10])"
   ]
  },
  {
   "cell_type": "markdown",
   "metadata": {},
   "source": [
    "Verifica della definitiva rimozione dei valori NaN."
   ]
  },
  {
   "cell_type": "code",
   "execution_count": 1,
   "metadata": {},
   "outputs": [
    {
     "ename": "NameError",
     "evalue": "name 'np' is not defined",
     "output_type": "error",
     "traceback": [
      "\u001b[1;31m---------------------------------------------------------------------------\u001b[0m",
      "\u001b[1;31mNameError\u001b[0m                                 Traceback (most recent call last)",
      "\u001b[1;32mc:\\Users\\tagli\\Desktop\\mobdproject\\mobdproject.ipynb Cella 18\u001b[0m in \u001b[0;36m<cell line: 1>\u001b[1;34m()\u001b[0m\n\u001b[1;32m----> <a href='vscode-notebook-cell:/c%3A/Users/tagli/Desktop/mobdproject/mobdproject.ipynb#ch0000017?line=0'>1</a>\u001b[0m np\u001b[39m.\u001b[39margwhere(np\u001b[39m.\u001b[39misnan(x_train_notnan))\n",
      "\u001b[1;31mNameError\u001b[0m: name 'np' is not defined"
     ]
    }
   ],
   "source": [
    "np.argwhere(np.isnan(x_train_notnan))"
   ]
  },
  {
   "cell_type": "code",
   "execution_count": 10,
   "metadata": {},
   "outputs": [
    {
     "data": {
      "text/plain": [
       "array([], shape=(0, 2), dtype=int64)"
      ]
     },
     "execution_count": 10,
     "metadata": {},
     "output_type": "execute_result"
    }
   ],
   "source": [
    "np.argwhere(np.isnan(x_test_notnan))"
   ]
  },
  {
   "cell_type": "markdown",
   "metadata": {},
   "source": [
    "Dopo aver riempito le celle vuote, dai vettori risultanti vengono creati nuovi dataframe (per training e test)."
   ]
  },
  {
   "cell_type": "code",
   "execution_count": 11,
   "metadata": {},
   "outputs": [],
   "source": [
    "# Creazione DataFrame da insiemi di train e test dopo l'imputazione dei valori mancanti \n",
    "training_set_df = pd.DataFrame(x_train_notnan, columns = colF)\n",
    "test_set_df = pd.DataFrame(x_test_notnan, columns = colF)"
   ]
  },
  {
   "cell_type": "code",
   "execution_count": 12,
   "metadata": {},
   "outputs": [
    {
     "data": {
      "text/html": [
       "<div>\n",
       "<style scoped>\n",
       "    .dataframe tbody tr th:only-of-type {\n",
       "        vertical-align: middle;\n",
       "    }\n",
       "\n",
       "    .dataframe tbody tr th {\n",
       "        vertical-align: top;\n",
       "    }\n",
       "\n",
       "    .dataframe thead th {\n",
       "        text-align: right;\n",
       "    }\n",
       "</style>\n",
       "<table border=\"1\" class=\"dataframe\">\n",
       "  <thead>\n",
       "    <tr style=\"text-align: right;\">\n",
       "      <th></th>\n",
       "      <th>F0</th>\n",
       "      <th>F1</th>\n",
       "      <th>F2</th>\n",
       "      <th>F3</th>\n",
       "      <th>F4</th>\n",
       "      <th>F5</th>\n",
       "      <th>F6</th>\n",
       "      <th>F7</th>\n",
       "      <th>F8</th>\n",
       "      <th>F9</th>\n",
       "      <th>F10</th>\n",
       "      <th>F11</th>\n",
       "      <th>F12</th>\n",
       "      <th>F13</th>\n",
       "    </tr>\n",
       "  </thead>\n",
       "  <tbody>\n",
       "    <tr>\n",
       "      <th>0</th>\n",
       "      <td>39.0</td>\n",
       "      <td>0.0</td>\n",
       "      <td>77516.0</td>\n",
       "      <td>0.0</td>\n",
       "      <td>13.0</td>\n",
       "      <td>0.0</td>\n",
       "      <td>0.0</td>\n",
       "      <td>0.0</td>\n",
       "      <td>0.0</td>\n",
       "      <td>0.0</td>\n",
       "      <td>2174.0</td>\n",
       "      <td>0.0</td>\n",
       "      <td>40.0</td>\n",
       "      <td>0.0</td>\n",
       "    </tr>\n",
       "    <tr>\n",
       "      <th>1</th>\n",
       "      <td>50.0</td>\n",
       "      <td>1.0</td>\n",
       "      <td>83311.0</td>\n",
       "      <td>0.0</td>\n",
       "      <td>13.0</td>\n",
       "      <td>1.0</td>\n",
       "      <td>1.0</td>\n",
       "      <td>1.0</td>\n",
       "      <td>0.0</td>\n",
       "      <td>0.0</td>\n",
       "      <td>0.0</td>\n",
       "      <td>0.0</td>\n",
       "      <td>13.0</td>\n",
       "      <td>0.0</td>\n",
       "    </tr>\n",
       "    <tr>\n",
       "      <th>2</th>\n",
       "      <td>38.0</td>\n",
       "      <td>2.0</td>\n",
       "      <td>215646.0</td>\n",
       "      <td>1.0</td>\n",
       "      <td>9.0</td>\n",
       "      <td>2.0</td>\n",
       "      <td>2.0</td>\n",
       "      <td>0.0</td>\n",
       "      <td>0.0</td>\n",
       "      <td>0.0</td>\n",
       "      <td>0.0</td>\n",
       "      <td>0.0</td>\n",
       "      <td>40.0</td>\n",
       "      <td>0.0</td>\n",
       "    </tr>\n",
       "    <tr>\n",
       "      <th>3</th>\n",
       "      <td>53.0</td>\n",
       "      <td>2.0</td>\n",
       "      <td>234721.0</td>\n",
       "      <td>2.0</td>\n",
       "      <td>7.0</td>\n",
       "      <td>1.0</td>\n",
       "      <td>2.0</td>\n",
       "      <td>1.0</td>\n",
       "      <td>1.0</td>\n",
       "      <td>0.0</td>\n",
       "      <td>0.0</td>\n",
       "      <td>0.0</td>\n",
       "      <td>40.0</td>\n",
       "      <td>0.0</td>\n",
       "    </tr>\n",
       "    <tr>\n",
       "      <th>4</th>\n",
       "      <td>28.0</td>\n",
       "      <td>2.0</td>\n",
       "      <td>338409.0</td>\n",
       "      <td>0.0</td>\n",
       "      <td>13.0</td>\n",
       "      <td>1.0</td>\n",
       "      <td>3.0</td>\n",
       "      <td>2.0</td>\n",
       "      <td>1.0</td>\n",
       "      <td>1.0</td>\n",
       "      <td>0.0</td>\n",
       "      <td>0.0</td>\n",
       "      <td>40.0</td>\n",
       "      <td>8.0</td>\n",
       "    </tr>\n",
       "  </tbody>\n",
       "</table>\n",
       "</div>"
      ],
      "text/plain": [
       "     F0   F1        F2   F3    F4   F5   F6   F7   F8   F9     F10  F11   F12  \\\n",
       "0  39.0  0.0   77516.0  0.0  13.0  0.0  0.0  0.0  0.0  0.0  2174.0  0.0  40.0   \n",
       "1  50.0  1.0   83311.0  0.0  13.0  1.0  1.0  1.0  0.0  0.0     0.0  0.0  13.0   \n",
       "2  38.0  2.0  215646.0  1.0   9.0  2.0  2.0  0.0  0.0  0.0     0.0  0.0  40.0   \n",
       "3  53.0  2.0  234721.0  2.0   7.0  1.0  2.0  1.0  1.0  0.0     0.0  0.0  40.0   \n",
       "4  28.0  2.0  338409.0  0.0  13.0  1.0  3.0  2.0  1.0  1.0     0.0  0.0  40.0   \n",
       "\n",
       "   F13  \n",
       "0  0.0  \n",
       "1  0.0  \n",
       "2  0.0  \n",
       "3  0.0  \n",
       "4  8.0  "
      ]
     },
     "execution_count": 12,
     "metadata": {},
     "output_type": "execute_result"
    }
   ],
   "source": [
    "training_set_df.head()"
   ]
  },
  {
   "cell_type": "code",
   "execution_count": 13,
   "metadata": {},
   "outputs": [
    {
     "data": {
      "text/html": [
       "<div>\n",
       "<style scoped>\n",
       "    .dataframe tbody tr th:only-of-type {\n",
       "        vertical-align: middle;\n",
       "    }\n",
       "\n",
       "    .dataframe tbody tr th {\n",
       "        vertical-align: top;\n",
       "    }\n",
       "\n",
       "    .dataframe thead th {\n",
       "        text-align: right;\n",
       "    }\n",
       "</style>\n",
       "<table border=\"1\" class=\"dataframe\">\n",
       "  <thead>\n",
       "    <tr style=\"text-align: right;\">\n",
       "      <th></th>\n",
       "      <th>F0</th>\n",
       "      <th>F1</th>\n",
       "      <th>F2</th>\n",
       "      <th>F3</th>\n",
       "      <th>F4</th>\n",
       "      <th>F5</th>\n",
       "      <th>F6</th>\n",
       "      <th>F7</th>\n",
       "      <th>F8</th>\n",
       "      <th>F9</th>\n",
       "      <th>F10</th>\n",
       "      <th>F11</th>\n",
       "      <th>F12</th>\n",
       "      <th>F13</th>\n",
       "    </tr>\n",
       "  </thead>\n",
       "  <tbody>\n",
       "    <tr>\n",
       "      <th>0</th>\n",
       "      <td>39.0</td>\n",
       "      <td>2.0</td>\n",
       "      <td>30269.0</td>\n",
       "      <td>7.0</td>\n",
       "      <td>11.0</td>\n",
       "      <td>2.0</td>\n",
       "      <td>5.0</td>\n",
       "      <td>4.0</td>\n",
       "      <td>0.0</td>\n",
       "      <td>1.0</td>\n",
       "      <td>0.0</td>\n",
       "      <td>0.0</td>\n",
       "      <td>40.0</td>\n",
       "      <td>0.0</td>\n",
       "    </tr>\n",
       "    <tr>\n",
       "      <th>1</th>\n",
       "      <td>42.0</td>\n",
       "      <td>2.0</td>\n",
       "      <td>204235.0</td>\n",
       "      <td>5.0</td>\n",
       "      <td>10.0</td>\n",
       "      <td>1.0</td>\n",
       "      <td>3.0</td>\n",
       "      <td>1.0</td>\n",
       "      <td>0.0</td>\n",
       "      <td>0.0</td>\n",
       "      <td>0.0</td>\n",
       "      <td>0.0</td>\n",
       "      <td>40.0</td>\n",
       "      <td>0.0</td>\n",
       "    </tr>\n",
       "    <tr>\n",
       "      <th>2</th>\n",
       "      <td>46.0</td>\n",
       "      <td>4.0</td>\n",
       "      <td>209057.0</td>\n",
       "      <td>3.0</td>\n",
       "      <td>14.0</td>\n",
       "      <td>1.0</td>\n",
       "      <td>1.0</td>\n",
       "      <td>1.0</td>\n",
       "      <td>0.0</td>\n",
       "      <td>0.0</td>\n",
       "      <td>0.0</td>\n",
       "      <td>0.0</td>\n",
       "      <td>50.0</td>\n",
       "      <td>0.0</td>\n",
       "    </tr>\n",
       "    <tr>\n",
       "      <th>3</th>\n",
       "      <td>73.0</td>\n",
       "      <td>2.0</td>\n",
       "      <td>349347.0</td>\n",
       "      <td>8.0</td>\n",
       "      <td>4.0</td>\n",
       "      <td>1.0</td>\n",
       "      <td>2.0</td>\n",
       "      <td>1.0</td>\n",
       "      <td>0.0</td>\n",
       "      <td>0.0</td>\n",
       "      <td>0.0</td>\n",
       "      <td>0.0</td>\n",
       "      <td>25.0</td>\n",
       "      <td>0.0</td>\n",
       "    </tr>\n",
       "    <tr>\n",
       "      <th>4</th>\n",
       "      <td>47.0</td>\n",
       "      <td>4.0</td>\n",
       "      <td>154033.0</td>\n",
       "      <td>5.0</td>\n",
       "      <td>10.0</td>\n",
       "      <td>2.0</td>\n",
       "      <td>3.0</td>\n",
       "      <td>0.0</td>\n",
       "      <td>0.0</td>\n",
       "      <td>1.0</td>\n",
       "      <td>0.0</td>\n",
       "      <td>1876.0</td>\n",
       "      <td>40.0</td>\n",
       "      <td>0.0</td>\n",
       "    </tr>\n",
       "  </tbody>\n",
       "</table>\n",
       "</div>"
      ],
      "text/plain": [
       "     F0   F1        F2   F3    F4   F5   F6   F7   F8   F9  F10     F11   F12  \\\n",
       "0  39.0  2.0   30269.0  7.0  11.0  2.0  5.0  4.0  0.0  1.0  0.0     0.0  40.0   \n",
       "1  42.0  2.0  204235.0  5.0  10.0  1.0  3.0  1.0  0.0  0.0  0.0     0.0  40.0   \n",
       "2  46.0  4.0  209057.0  3.0  14.0  1.0  1.0  1.0  0.0  0.0  0.0     0.0  50.0   \n",
       "3  73.0  2.0  349347.0  8.0   4.0  1.0  2.0  1.0  0.0  0.0  0.0     0.0  25.0   \n",
       "4  47.0  4.0  154033.0  5.0  10.0  2.0  3.0  0.0  0.0  1.0  0.0  1876.0  40.0   \n",
       "\n",
       "   F13  \n",
       "0  0.0  \n",
       "1  0.0  \n",
       "2  0.0  \n",
       "3  0.0  \n",
       "4  0.0  "
      ]
     },
     "execution_count": 13,
     "metadata": {},
     "output_type": "execute_result"
    }
   ],
   "source": [
    "test_set_df.head()"
   ]
  },
  {
   "cell_type": "markdown",
   "metadata": {},
   "source": [
    "#### Codifica One-hot\n",
    "Le feature categoriche che erano state convertite, adesso vengono tradotte in formato binario grazie alla codifica One-hot.\n",
    "\n",
    "Lo scopo di questo passaggio è bilanciare e normalizzare i valori delle feature."
   ]
  },
  {
   "cell_type": "code",
   "execution_count": 14,
   "metadata": {},
   "outputs": [],
   "source": [
    "# Codifica OneHot contemporaneamente su training_set_df e test_set_df\n",
    "OneHotF1 = pd.get_dummies(training_set_df.F1)\n",
    "OneHotTestF1 = pd.get_dummies(test_set_df.F1)\n",
    "OneHotF3 = pd.get_dummies(training_set_df.F3)\n",
    "OneHotTestF3 = pd.get_dummies(test_set_df.F3)\n",
    "OneHotF5 = pd.get_dummies(training_set_df.F5)\n",
    "OneHotTestF5 = pd.get_dummies(test_set_df.F5)\n",
    "OneHotF6 = pd.get_dummies(training_set_df.F6)\n",
    "OneHotTestF6 = pd.get_dummies(test_set_df.F6)\n",
    "OneHotF7 = pd.get_dummies(training_set_df.F7)\n",
    "OneHotTestF7 = pd.get_dummies(test_set_df.F7)\n",
    "OneHotF8 = pd.get_dummies(training_set_df.F8)\n",
    "OneHotTestF8 = pd.get_dummies(test_set_df.F8)\n",
    "OneHotF9 = pd.get_dummies(training_set_df.F9)\n",
    "OneHotTestF9 = pd.get_dummies(test_set_df.F9)\n",
    "OneHotF13 = pd.get_dummies(training_set_df.F13)\n",
    "OneHotTestF13 = pd.get_dummies(test_set_df.F13)\n",
    "\n",
    "for i in range (0, len(colF1)):\n",
    "    OneHotF1 = OneHotF1.rename(columns = {i: colF1[i]})\n",
    "    OneHotTestF1 = OneHotTestF1.rename(columns = {i: colF1[i]})\n",
    "for i in range (0, len(colF3)):\n",
    "    OneHotF3 = OneHotF3.rename(columns = {i: colF3[i]})\n",
    "    OneHotTestF3 = OneHotTestF3.rename(columns = {i: colF3[i]})\n",
    "for i in range (0, len(colF5)):\n",
    "    OneHotF5 = OneHotF5.rename(columns = {i: colF5[i]})\n",
    "    OneHotTestF5 = OneHotTestF5.rename(columns = {i: colF5[i]})\n",
    "for i in range (0, len(colF6)):\n",
    "    OneHotF6 = OneHotF6.rename(columns = {i: colF6[i]})\n",
    "    OneHotTestF6 = OneHotTestF6.rename(columns = {i: colF6[i]})\n",
    "for i in range (0, len(colF7)):\n",
    "    OneHotF7 = OneHotF7.rename(columns = {i: colF7[i]})\n",
    "    OneHotTestF7 = OneHotTestF7.rename(columns = {i: colF7[i]})\n",
    "for i in range (0, len(colF8)):\n",
    "    OneHotF8 = OneHotF8.rename(columns = {i: colF8[i]})\n",
    "    OneHotTestF8 = OneHotTestF8.rename(columns = {i: colF8[i]})\n",
    "for i in range (0, len(colF9)):\n",
    "    OneHotF9 = OneHotF9.rename(columns = {i: colF9[i]})\n",
    "    OneHotTestF9 = OneHotTestF9.rename(columns = {i: colF9[i]})\n",
    "for i in range (0, len(colF13)):\n",
    "    OneHotF13 = OneHotF13.rename(columns = {i: colF13[i]})\n",
    "    OneHotTestF13 = OneHotTestF13.rename(columns = {i: colF13[i]})"
   ]
  },
  {
   "cell_type": "markdown",
   "metadata": {},
   "source": [
    "Le nuove colonne rimpiazzano le vecchie colonne che avevano valori non normalizzati."
   ]
  },
  {
   "cell_type": "code",
   "execution_count": 15,
   "metadata": {},
   "outputs": [],
   "source": [
    "# Creazione newdf e newdftest con la sostituzione delle colonne generate con la codifica\n",
    "training_set_df = pd.concat([training_set_df, OneHotF1, OneHotF3, OneHotF5, OneHotF6, OneHotF7, OneHotF8, OneHotF9, OneHotF13], axis = 1)\n",
    "test_set_df = pd.concat([test_set_df, OneHotTestF1, OneHotTestF3, OneHotTestF5, OneHotTestF6, OneHotTestF7, OneHotTestF8, OneHotTestF9, OneHotTestF13], axis = 1)\n",
    "\n",
    "training_set_df = training_set_df.drop([\"F1\", \"F3\", \"F5\", \"F6\", \"F7\", \"F8\", \"F9\", \"F13\"], axis = 1)\n",
    "test_set_df = test_set_df.drop([\"F1\", \"F3\", \"F5\", \"F6\", \"F7\", \"F8\", \"F9\", \"F13\"], axis = 1)"
   ]
  },
  {
   "cell_type": "code",
   "execution_count": 16,
   "metadata": {},
   "outputs": [
    {
     "data": {
      "text/html": [
       "<div>\n",
       "<style scoped>\n",
       "    .dataframe tbody tr th:only-of-type {\n",
       "        vertical-align: middle;\n",
       "    }\n",
       "\n",
       "    .dataframe tbody tr th {\n",
       "        vertical-align: top;\n",
       "    }\n",
       "\n",
       "    .dataframe thead th {\n",
       "        text-align: right;\n",
       "    }\n",
       "</style>\n",
       "<table border=\"1\" class=\"dataframe\">\n",
       "  <thead>\n",
       "    <tr style=\"text-align: right;\">\n",
       "      <th></th>\n",
       "      <th>F0</th>\n",
       "      <th>F2</th>\n",
       "      <th>F4</th>\n",
       "      <th>F10</th>\n",
       "      <th>F11</th>\n",
       "      <th>F12</th>\n",
       "      <th>K1</th>\n",
       "      <th>K2</th>\n",
       "      <th>K3</th>\n",
       "      <th>K4</th>\n",
       "      <th>...</th>\n",
       "      <th>Hong</th>\n",
       "      <th>Cambodia</th>\n",
       "      <th>Caribbean</th>\n",
       "      <th>Thailand</th>\n",
       "      <th>Laos</th>\n",
       "      <th>Yugoslavia</th>\n",
       "      <th>Honduras</th>\n",
       "      <th>Hungary</th>\n",
       "      <th>Scotland</th>\n",
       "      <th>Netherlands</th>\n",
       "    </tr>\n",
       "  </thead>\n",
       "  <tbody>\n",
       "    <tr>\n",
       "      <th>0</th>\n",
       "      <td>39.0</td>\n",
       "      <td>77516.0</td>\n",
       "      <td>13.0</td>\n",
       "      <td>2174.0</td>\n",
       "      <td>0.0</td>\n",
       "      <td>40.0</td>\n",
       "      <td>1</td>\n",
       "      <td>0</td>\n",
       "      <td>0</td>\n",
       "      <td>0</td>\n",
       "      <td>...</td>\n",
       "      <td>0</td>\n",
       "      <td>0</td>\n",
       "      <td>0</td>\n",
       "      <td>0</td>\n",
       "      <td>0</td>\n",
       "      <td>0</td>\n",
       "      <td>0</td>\n",
       "      <td>0</td>\n",
       "      <td>0</td>\n",
       "      <td>0</td>\n",
       "    </tr>\n",
       "    <tr>\n",
       "      <th>1</th>\n",
       "      <td>50.0</td>\n",
       "      <td>83311.0</td>\n",
       "      <td>13.0</td>\n",
       "      <td>0.0</td>\n",
       "      <td>0.0</td>\n",
       "      <td>13.0</td>\n",
       "      <td>0</td>\n",
       "      <td>1</td>\n",
       "      <td>0</td>\n",
       "      <td>0</td>\n",
       "      <td>...</td>\n",
       "      <td>0</td>\n",
       "      <td>0</td>\n",
       "      <td>0</td>\n",
       "      <td>0</td>\n",
       "      <td>0</td>\n",
       "      <td>0</td>\n",
       "      <td>0</td>\n",
       "      <td>0</td>\n",
       "      <td>0</td>\n",
       "      <td>0</td>\n",
       "    </tr>\n",
       "    <tr>\n",
       "      <th>2</th>\n",
       "      <td>38.0</td>\n",
       "      <td>215646.0</td>\n",
       "      <td>9.0</td>\n",
       "      <td>0.0</td>\n",
       "      <td>0.0</td>\n",
       "      <td>40.0</td>\n",
       "      <td>0</td>\n",
       "      <td>0</td>\n",
       "      <td>1</td>\n",
       "      <td>0</td>\n",
       "      <td>...</td>\n",
       "      <td>0</td>\n",
       "      <td>0</td>\n",
       "      <td>0</td>\n",
       "      <td>0</td>\n",
       "      <td>0</td>\n",
       "      <td>0</td>\n",
       "      <td>0</td>\n",
       "      <td>0</td>\n",
       "      <td>0</td>\n",
       "      <td>0</td>\n",
       "    </tr>\n",
       "    <tr>\n",
       "      <th>3</th>\n",
       "      <td>53.0</td>\n",
       "      <td>234721.0</td>\n",
       "      <td>7.0</td>\n",
       "      <td>0.0</td>\n",
       "      <td>0.0</td>\n",
       "      <td>40.0</td>\n",
       "      <td>0</td>\n",
       "      <td>0</td>\n",
       "      <td>1</td>\n",
       "      <td>0</td>\n",
       "      <td>...</td>\n",
       "      <td>0</td>\n",
       "      <td>0</td>\n",
       "      <td>0</td>\n",
       "      <td>0</td>\n",
       "      <td>0</td>\n",
       "      <td>0</td>\n",
       "      <td>0</td>\n",
       "      <td>0</td>\n",
       "      <td>0</td>\n",
       "      <td>0</td>\n",
       "    </tr>\n",
       "    <tr>\n",
       "      <th>4</th>\n",
       "      <td>28.0</td>\n",
       "      <td>338409.0</td>\n",
       "      <td>13.0</td>\n",
       "      <td>0.0</td>\n",
       "      <td>0.0</td>\n",
       "      <td>40.0</td>\n",
       "      <td>0</td>\n",
       "      <td>0</td>\n",
       "      <td>1</td>\n",
       "      <td>0</td>\n",
       "      <td>...</td>\n",
       "      <td>0</td>\n",
       "      <td>0</td>\n",
       "      <td>0</td>\n",
       "      <td>0</td>\n",
       "      <td>0</td>\n",
       "      <td>0</td>\n",
       "      <td>0</td>\n",
       "      <td>0</td>\n",
       "      <td>0</td>\n",
       "      <td>0</td>\n",
       "    </tr>\n",
       "  </tbody>\n",
       "</table>\n",
       "<p>5 rows × 104 columns</p>\n",
       "</div>"
      ],
      "text/plain": [
       "     F0        F2    F4     F10  F11   F12  K1  K2  K3  K4  ...  Hong  \\\n",
       "0  39.0   77516.0  13.0  2174.0  0.0  40.0   1   0   0   0  ...     0   \n",
       "1  50.0   83311.0  13.0     0.0  0.0  13.0   0   1   0   0  ...     0   \n",
       "2  38.0  215646.0   9.0     0.0  0.0  40.0   0   0   1   0  ...     0   \n",
       "3  53.0  234721.0   7.0     0.0  0.0  40.0   0   0   1   0  ...     0   \n",
       "4  28.0  338409.0  13.0     0.0  0.0  40.0   0   0   1   0  ...     0   \n",
       "\n",
       "   Cambodia  Caribbean  Thailand  Laos  Yugoslavia  Honduras  Hungary  \\\n",
       "0         0          0         0     0           0         0        0   \n",
       "1         0          0         0     0           0         0        0   \n",
       "2         0          0         0     0           0         0        0   \n",
       "3         0          0         0     0           0         0        0   \n",
       "4         0          0         0     0           0         0        0   \n",
       "\n",
       "   Scotland  Netherlands  \n",
       "0         0            0  \n",
       "1         0            0  \n",
       "2         0            0  \n",
       "3         0            0  \n",
       "4         0            0  \n",
       "\n",
       "[5 rows x 104 columns]"
      ]
     },
     "execution_count": 16,
     "metadata": {},
     "output_type": "execute_result"
    }
   ],
   "source": [
    "training_set_df.head()"
   ]
  },
  {
   "cell_type": "code",
   "execution_count": 17,
   "metadata": {},
   "outputs": [
    {
     "data": {
      "text/html": [
       "<div>\n",
       "<style scoped>\n",
       "    .dataframe tbody tr th:only-of-type {\n",
       "        vertical-align: middle;\n",
       "    }\n",
       "\n",
       "    .dataframe tbody tr th {\n",
       "        vertical-align: top;\n",
       "    }\n",
       "\n",
       "    .dataframe thead th {\n",
       "        text-align: right;\n",
       "    }\n",
       "</style>\n",
       "<table border=\"1\" class=\"dataframe\">\n",
       "  <thead>\n",
       "    <tr style=\"text-align: right;\">\n",
       "      <th></th>\n",
       "      <th>F0</th>\n",
       "      <th>F2</th>\n",
       "      <th>F4</th>\n",
       "      <th>F10</th>\n",
       "      <th>F11</th>\n",
       "      <th>F12</th>\n",
       "      <th>K1</th>\n",
       "      <th>K2</th>\n",
       "      <th>K3</th>\n",
       "      <th>K4</th>\n",
       "      <th>...</th>\n",
       "      <th>Ecuador</th>\n",
       "      <th>Ireland</th>\n",
       "      <th>Hong</th>\n",
       "      <th>Cambodia</th>\n",
       "      <th>Caribbean</th>\n",
       "      <th>Laos</th>\n",
       "      <th>Yugoslavia</th>\n",
       "      <th>Honduras</th>\n",
       "      <th>Hungary</th>\n",
       "      <th>Scotland</th>\n",
       "    </tr>\n",
       "  </thead>\n",
       "  <tbody>\n",
       "    <tr>\n",
       "      <th>0</th>\n",
       "      <td>39.0</td>\n",
       "      <td>30269.0</td>\n",
       "      <td>11.0</td>\n",
       "      <td>0.0</td>\n",
       "      <td>0.0</td>\n",
       "      <td>40.0</td>\n",
       "      <td>0</td>\n",
       "      <td>0</td>\n",
       "      <td>1</td>\n",
       "      <td>0</td>\n",
       "      <td>...</td>\n",
       "      <td>0</td>\n",
       "      <td>0</td>\n",
       "      <td>0</td>\n",
       "      <td>0</td>\n",
       "      <td>0</td>\n",
       "      <td>0</td>\n",
       "      <td>0</td>\n",
       "      <td>0</td>\n",
       "      <td>0</td>\n",
       "      <td>0</td>\n",
       "    </tr>\n",
       "    <tr>\n",
       "      <th>1</th>\n",
       "      <td>42.0</td>\n",
       "      <td>204235.0</td>\n",
       "      <td>10.0</td>\n",
       "      <td>0.0</td>\n",
       "      <td>0.0</td>\n",
       "      <td>40.0</td>\n",
       "      <td>0</td>\n",
       "      <td>0</td>\n",
       "      <td>1</td>\n",
       "      <td>0</td>\n",
       "      <td>...</td>\n",
       "      <td>0</td>\n",
       "      <td>0</td>\n",
       "      <td>0</td>\n",
       "      <td>0</td>\n",
       "      <td>0</td>\n",
       "      <td>0</td>\n",
       "      <td>0</td>\n",
       "      <td>0</td>\n",
       "      <td>0</td>\n",
       "      <td>0</td>\n",
       "    </tr>\n",
       "    <tr>\n",
       "      <th>2</th>\n",
       "      <td>46.0</td>\n",
       "      <td>209057.0</td>\n",
       "      <td>14.0</td>\n",
       "      <td>0.0</td>\n",
       "      <td>0.0</td>\n",
       "      <td>50.0</td>\n",
       "      <td>0</td>\n",
       "      <td>0</td>\n",
       "      <td>0</td>\n",
       "      <td>0</td>\n",
       "      <td>...</td>\n",
       "      <td>0</td>\n",
       "      <td>0</td>\n",
       "      <td>0</td>\n",
       "      <td>0</td>\n",
       "      <td>0</td>\n",
       "      <td>0</td>\n",
       "      <td>0</td>\n",
       "      <td>0</td>\n",
       "      <td>0</td>\n",
       "      <td>0</td>\n",
       "    </tr>\n",
       "    <tr>\n",
       "      <th>3</th>\n",
       "      <td>73.0</td>\n",
       "      <td>349347.0</td>\n",
       "      <td>4.0</td>\n",
       "      <td>0.0</td>\n",
       "      <td>0.0</td>\n",
       "      <td>25.0</td>\n",
       "      <td>0</td>\n",
       "      <td>0</td>\n",
       "      <td>1</td>\n",
       "      <td>0</td>\n",
       "      <td>...</td>\n",
       "      <td>0</td>\n",
       "      <td>0</td>\n",
       "      <td>0</td>\n",
       "      <td>0</td>\n",
       "      <td>0</td>\n",
       "      <td>0</td>\n",
       "      <td>0</td>\n",
       "      <td>0</td>\n",
       "      <td>0</td>\n",
       "      <td>0</td>\n",
       "    </tr>\n",
       "    <tr>\n",
       "      <th>4</th>\n",
       "      <td>47.0</td>\n",
       "      <td>154033.0</td>\n",
       "      <td>10.0</td>\n",
       "      <td>0.0</td>\n",
       "      <td>1876.0</td>\n",
       "      <td>40.0</td>\n",
       "      <td>0</td>\n",
       "      <td>0</td>\n",
       "      <td>0</td>\n",
       "      <td>0</td>\n",
       "      <td>...</td>\n",
       "      <td>0</td>\n",
       "      <td>0</td>\n",
       "      <td>0</td>\n",
       "      <td>0</td>\n",
       "      <td>0</td>\n",
       "      <td>0</td>\n",
       "      <td>0</td>\n",
       "      <td>0</td>\n",
       "      <td>0</td>\n",
       "      <td>0</td>\n",
       "    </tr>\n",
       "  </tbody>\n",
       "</table>\n",
       "<p>5 rows × 102 columns</p>\n",
       "</div>"
      ],
      "text/plain": [
       "     F0        F2    F4  F10     F11   F12  K1  K2  K3  K4  ...  Ecuador  \\\n",
       "0  39.0   30269.0  11.0  0.0     0.0  40.0   0   0   1   0  ...        0   \n",
       "1  42.0  204235.0  10.0  0.0     0.0  40.0   0   0   1   0  ...        0   \n",
       "2  46.0  209057.0  14.0  0.0     0.0  50.0   0   0   0   0  ...        0   \n",
       "3  73.0  349347.0   4.0  0.0     0.0  25.0   0   0   1   0  ...        0   \n",
       "4  47.0  154033.0  10.0  0.0  1876.0  40.0   0   0   0   0  ...        0   \n",
       "\n",
       "   Ireland  Hong  Cambodia  Caribbean  Laos  Yugoslavia  Honduras  Hungary  \\\n",
       "0        0     0         0          0     0           0         0        0   \n",
       "1        0     0         0          0     0           0         0        0   \n",
       "2        0     0         0          0     0           0         0        0   \n",
       "3        0     0         0          0     0           0         0        0   \n",
       "4        0     0         0          0     0           0         0        0   \n",
       "\n",
       "   Scotland  \n",
       "0         0  \n",
       "1         0  \n",
       "2         0  \n",
       "3         0  \n",
       "4         0  \n",
       "\n",
       "[5 rows x 102 columns]"
      ]
     },
     "execution_count": 17,
     "metadata": {},
     "output_type": "execute_result"
    }
   ],
   "source": [
    "test_set_df.head()"
   ]
  },
  {
   "cell_type": "markdown",
   "metadata": {},
   "source": [
    "### Preprocessing"
   ]
  },
  {
   "cell_type": "markdown",
   "metadata": {},
   "source": [
    "#### Individuazione e rimozione degli outlier\n",
    "Le feature con valori numerici (non binari) vengono graficate con degli istogrammi.\n",
    "\n",
    "Lo stesso procedimento viene eseguito per il training set e per il test set."
   ]
  },
  {
   "cell_type": "code",
   "execution_count": 18,
   "metadata": {},
   "outputs": [
    {
     "data": {
      "text/plain": [
       "(array([  639.,  1919.,  2023., 15609.,  2724.,  3356.,  1561.,   393.,\n",
       "          178.,   119.]),\n",
       " array([ 1. , 10.8, 20.6, 30.4, 40.2, 50. , 59.8, 69.6, 79.4, 89.2, 99. ]),\n",
       " <BarContainer object of 10 artists>)"
      ]
     },
     "execution_count": 18,
     "metadata": {},
     "output_type": "execute_result"
    },
    {
     "data": {
      "image/png": "[encoded data removed]",
      "text/plain": [
       "<Figure size 2160x360 with 6 Axes>"
      ]
     },
     "metadata": {
      "needs_background": "light"
     },
     "output_type": "display_data"
    }
   ],
   "source": [
    "fig, axs = plt.subplots(1, 6, figsize = (30,5))\n",
    "axs[0].hist(training_set_df.F0)\n",
    "axs[1].hist(training_set_df.F2)\n",
    "axs[2].hist(training_set_df.F4)\n",
    "axs[3].hist(training_set_df.F10)\n",
    "axs[4].hist(training_set_df.F11)\n",
    "axs[5].hist(training_set_df.F12)\n",
    "\n",
    "# L'unico outlier dovuto a un errore nel dataset è quello in F2"
   ]
  },
  {
   "cell_type": "markdown",
   "metadata": {},
   "source": [
    "Dai grafici precedenti si evince che nella feature F2 ci sono uno o più outlier, che verranno rimossi con la tecnica che usa *zscore*."
   ]
  },
  {
   "cell_type": "code",
   "execution_count": 19,
   "metadata": {},
   "outputs": [
    {
     "data": {
      "text/html": [
       "<div>\n",
       "<style scoped>\n",
       "    .dataframe tbody tr th:only-of-type {\n",
       "        vertical-align: middle;\n",
       "    }\n",
       "\n",
       "    .dataframe tbody tr th {\n",
       "        vertical-align: top;\n",
       "    }\n",
       "\n",
       "    .dataframe thead th {\n",
       "        text-align: right;\n",
       "    }\n",
       "</style>\n",
       "<table border=\"1\" class=\"dataframe\">\n",
       "  <thead>\n",
       "    <tr style=\"text-align: right;\">\n",
       "      <th></th>\n",
       "      <th>F0</th>\n",
       "      <th>F2</th>\n",
       "      <th>F4</th>\n",
       "      <th>F10</th>\n",
       "      <th>F11</th>\n",
       "      <th>F12</th>\n",
       "      <th>K1</th>\n",
       "      <th>K2</th>\n",
       "      <th>K3</th>\n",
       "      <th>K4</th>\n",
       "      <th>...</th>\n",
       "      <th>Hong</th>\n",
       "      <th>Cambodia</th>\n",
       "      <th>Caribbean</th>\n",
       "      <th>Thailand</th>\n",
       "      <th>Laos</th>\n",
       "      <th>Yugoslavia</th>\n",
       "      <th>Honduras</th>\n",
       "      <th>Hungary</th>\n",
       "      <th>Scotland</th>\n",
       "      <th>Netherlands</th>\n",
       "    </tr>\n",
       "  </thead>\n",
       "  <tbody>\n",
       "    <tr>\n",
       "      <th>0</th>\n",
       "      <td>39.0</td>\n",
       "      <td>77516.0</td>\n",
       "      <td>13.0</td>\n",
       "      <td>2174.0</td>\n",
       "      <td>0.0</td>\n",
       "      <td>40.0</td>\n",
       "      <td>1</td>\n",
       "      <td>0</td>\n",
       "      <td>0</td>\n",
       "      <td>0</td>\n",
       "      <td>...</td>\n",
       "      <td>0</td>\n",
       "      <td>0</td>\n",
       "      <td>0</td>\n",
       "      <td>0</td>\n",
       "      <td>0</td>\n",
       "      <td>0</td>\n",
       "      <td>0</td>\n",
       "      <td>0</td>\n",
       "      <td>0</td>\n",
       "      <td>0</td>\n",
       "    </tr>\n",
       "    <tr>\n",
       "      <th>1</th>\n",
       "      <td>50.0</td>\n",
       "      <td>83311.0</td>\n",
       "      <td>13.0</td>\n",
       "      <td>0.0</td>\n",
       "      <td>0.0</td>\n",
       "      <td>13.0</td>\n",
       "      <td>0</td>\n",
       "      <td>1</td>\n",
       "      <td>0</td>\n",
       "      <td>0</td>\n",
       "      <td>...</td>\n",
       "      <td>0</td>\n",
       "      <td>0</td>\n",
       "      <td>0</td>\n",
       "      <td>0</td>\n",
       "      <td>0</td>\n",
       "      <td>0</td>\n",
       "      <td>0</td>\n",
       "      <td>0</td>\n",
       "      <td>0</td>\n",
       "      <td>0</td>\n",
       "    </tr>\n",
       "    <tr>\n",
       "      <th>2</th>\n",
       "      <td>38.0</td>\n",
       "      <td>215646.0</td>\n",
       "      <td>9.0</td>\n",
       "      <td>0.0</td>\n",
       "      <td>0.0</td>\n",
       "      <td>40.0</td>\n",
       "      <td>0</td>\n",
       "      <td>0</td>\n",
       "      <td>1</td>\n",
       "      <td>0</td>\n",
       "      <td>...</td>\n",
       "      <td>0</td>\n",
       "      <td>0</td>\n",
       "      <td>0</td>\n",
       "      <td>0</td>\n",
       "      <td>0</td>\n",
       "      <td>0</td>\n",
       "      <td>0</td>\n",
       "      <td>0</td>\n",
       "      <td>0</td>\n",
       "      <td>0</td>\n",
       "    </tr>\n",
       "    <tr>\n",
       "      <th>3</th>\n",
       "      <td>53.0</td>\n",
       "      <td>234721.0</td>\n",
       "      <td>7.0</td>\n",
       "      <td>0.0</td>\n",
       "      <td>0.0</td>\n",
       "      <td>40.0</td>\n",
       "      <td>0</td>\n",
       "      <td>0</td>\n",
       "      <td>1</td>\n",
       "      <td>0</td>\n",
       "      <td>...</td>\n",
       "      <td>0</td>\n",
       "      <td>0</td>\n",
       "      <td>0</td>\n",
       "      <td>0</td>\n",
       "      <td>0</td>\n",
       "      <td>0</td>\n",
       "      <td>0</td>\n",
       "      <td>0</td>\n",
       "      <td>0</td>\n",
       "      <td>0</td>\n",
       "    </tr>\n",
       "    <tr>\n",
       "      <th>4</th>\n",
       "      <td>28.0</td>\n",
       "      <td>338409.0</td>\n",
       "      <td>13.0</td>\n",
       "      <td>0.0</td>\n",
       "      <td>0.0</td>\n",
       "      <td>40.0</td>\n",
       "      <td>0</td>\n",
       "      <td>0</td>\n",
       "      <td>1</td>\n",
       "      <td>0</td>\n",
       "      <td>...</td>\n",
       "      <td>0</td>\n",
       "      <td>0</td>\n",
       "      <td>0</td>\n",
       "      <td>0</td>\n",
       "      <td>0</td>\n",
       "      <td>0</td>\n",
       "      <td>0</td>\n",
       "      <td>0</td>\n",
       "      <td>0</td>\n",
       "      <td>0</td>\n",
       "    </tr>\n",
       "  </tbody>\n",
       "</table>\n",
       "<p>5 rows × 104 columns</p>\n",
       "</div>"
      ],
      "text/plain": [
       "     F0        F2    F4     F10  F11   F12  K1  K2  K3  K4  ...  Hong  \\\n",
       "0  39.0   77516.0  13.0  2174.0  0.0  40.0   1   0   0   0  ...     0   \n",
       "1  50.0   83311.0  13.0     0.0  0.0  13.0   0   1   0   0  ...     0   \n",
       "2  38.0  215646.0   9.0     0.0  0.0  40.0   0   0   1   0  ...     0   \n",
       "3  53.0  234721.0   7.0     0.0  0.0  40.0   0   0   1   0  ...     0   \n",
       "4  28.0  338409.0  13.0     0.0  0.0  40.0   0   0   1   0  ...     0   \n",
       "\n",
       "   Cambodia  Caribbean  Thailand  Laos  Yugoslavia  Honduras  Hungary  \\\n",
       "0         0          0         0     0           0         0        0   \n",
       "1         0          0         0     0           0         0        0   \n",
       "2         0          0         0     0           0         0        0   \n",
       "3         0          0         0     0           0         0        0   \n",
       "4         0          0         0     0           0         0        0   \n",
       "\n",
       "   Scotland  Netherlands  \n",
       "0         0            0  \n",
       "1         0            0  \n",
       "2         0            0  \n",
       "3         0            0  \n",
       "4         0            0  \n",
       "\n",
       "[5 rows x 104 columns]"
      ]
     },
     "execution_count": 19,
     "metadata": {},
     "output_type": "execute_result"
    }
   ],
   "source": [
    "# Individuazione e rimozione degli outlier (in F2) nel training set\n",
    "z_scores = stats.zscore(training_set_df[\"F2\"])\n",
    "abs_z_scores = np.abs(z_scores)\n",
    "filtered_entries = (abs_z_scores < 3)\n",
    "training_set_df = training_set_df[filtered_entries]\n",
    "\n",
    "training_set_df.head()"
   ]
  },
  {
   "cell_type": "code",
   "execution_count": 20,
   "metadata": {},
   "outputs": [
    {
     "data": {
      "text/plain": [
       "<AxesSubplot:ylabel='Frequency'>"
      ]
     },
     "execution_count": 20,
     "metadata": {},
     "output_type": "execute_result"
    },
    {
     "data": {
      "image/png": "[encoded data removed]",
      "text/plain": [
       "<Figure size 432x288 with 1 Axes>"
      ]
     },
     "metadata": {
      "needs_background": "light"
     },
     "output_type": "display_data"
    }
   ],
   "source": [
    "# Verifica rimozione outlier\n",
    "training_set_df[\"F2\"].plot.hist()"
   ]
  },
  {
   "cell_type": "code",
   "execution_count": 21,
   "metadata": {},
   "outputs": [
    {
     "data": {
      "text/plain": [
       "(array([  97.,  273.,  294., 2126.,  395.,  521.,  235.,   55.,   24.,\n",
       "          20.]),\n",
       " array([ 1. , 10.8, 20.6, 30.4, 40.2, 50. , 59.8, 69.6, 79.4, 89.2, 99. ]),\n",
       " <BarContainer object of 10 artists>)"
      ]
     },
     "execution_count": 21,
     "metadata": {},
     "output_type": "execute_result"
    },
    {
     "data": {
      "image/png": "[encoded data removed]",
      "text/plain": [
       "<Figure size 2160x360 with 6 Axes>"
      ]
     },
     "metadata": {
      "needs_background": "light"
     },
     "output_type": "display_data"
    }
   ],
   "source": [
    "fig, axs = plt.subplots(1, 6, figsize = (30,5))\n",
    "axs[0].hist(test_set_df.F0)\n",
    "axs[1].hist(test_set_df.F2)\n",
    "axs[2].hist(test_set_df.F4)\n",
    "axs[3].hist(test_set_df.F10)\n",
    "axs[4].hist(test_set_df.F11)\n",
    "axs[5].hist(test_set_df.F12)\n",
    "\n",
    "# L'unico outlier dovuto a un errore nel dataset è quello in F2"
   ]
  },
  {
   "cell_type": "code",
   "execution_count": 22,
   "metadata": {},
   "outputs": [],
   "source": [
    "# # Individuazione e rimozione degli outlier (in F2) nel test set\n",
    "# z_scores = stats.zscore(test_set_df[\"F2\"])\n",
    "# abs_z_scores = np.abs(z_scores)\n",
    "# filtered_entries = (abs_z_scores < 3)\n",
    "# test_set_df = test_set_df[filtered_entries]\n",
    "\n",
    "# test_set_df.head()"
   ]
  },
  {
   "cell_type": "code",
   "execution_count": 23,
   "metadata": {},
   "outputs": [
    {
     "data": {
      "text/plain": [
       "<AxesSubplot:ylabel='Frequency'>"
      ]
     },
     "execution_count": 23,
     "metadata": {},
     "output_type": "execute_result"
    },
    {
     "data": {
      "image/png": "[encoded data removed]",
      "text/plain": [
       "<Figure size 432x288 with 1 Axes>"
      ]
     },
     "metadata": {
      "needs_background": "light"
     },
     "output_type": "display_data"
    }
   ],
   "source": [
    "# Verifica rimozione outlier\n",
    "test_set_df[\"F2\"].plot.hist()"
   ]
  },
  {
   "cell_type": "markdown",
   "metadata": {},
   "source": [
    "#### Bilanciamento\n",
    "Dopo aver illustrato la proporzione di 1 e 0 nel target (di training e test set) con degli istogrammi, si è ritenuto opportuno effettuare un bilanciamento.\n",
    "\n",
    "Quest'ultimo è stato realizzato con la tecnica di oversampling SMOTE."
   ]
  },
  {
   "cell_type": "code",
   "execution_count": 24,
   "metadata": {},
   "outputs": [
    {
     "data": {
      "text/plain": [
       "array([[<AxesSubplot:title={'center':'Y'}>]], dtype=object)"
      ]
     },
     "execution_count": 24,
     "metadata": {},
     "output_type": "execute_result"
    },
    {
     "data": {
      "image/png": "[encoded data removed]",
      "text/plain": [
       "<Figure size 432x288 with 1 Axes>"
      ]
     },
     "metadata": {
      "needs_background": "light"
     },
     "output_type": "display_data"
    }
   ],
   "source": [
    "# Controllo bilanciamento y_train\n",
    "y_training_df = pd.DataFrame(y_train, columns = [\"Y\"])\n",
    "y_training_df.hist()"
   ]
  },
  {
   "cell_type": "code",
   "execution_count": 25,
   "metadata": {},
   "outputs": [
    {
     "data": {
      "text/plain": [
       "array([[<AxesSubplot:title={'center':'Y'}>]], dtype=object)"
      ]
     },
     "execution_count": 25,
     "metadata": {},
     "output_type": "execute_result"
    },
    {
     "data": {
      "image/png": "[encoded data removed]",
      "text/plain": [
       "<Figure size 432x288 with 1 Axes>"
      ]
     },
     "metadata": {
      "needs_background": "light"
     },
     "output_type": "display_data"
    }
   ],
   "source": [
    "# Controllo bilanciamento y_test\n",
    "y_test_df = pd.DataFrame(y_test, columns = [\"Y\"])\n",
    "y_test_df.hist()"
   ]
  },
  {
   "cell_type": "markdown",
   "metadata": {},
   "source": [
    "SMOTE (Synthetic Minority Oversampling Technique): serve ad aumentare la dimensione della classe minoritaria creando dati sintetici, creati in base a formule e algoritmi di clustering sui dati presenti."
   ]
  },
  {
   "cell_type": "code",
   "execution_count": 26,
   "metadata": {},
   "outputs": [
    {
     "name": "stdout",
     "output_type": "stream",
     "text": [
      "(43386, 14) (43386,)\n",
      "[[3.90000000e+01 0.00000000e+00 7.75160000e+04 ... 0.00000000e+00\n",
      "  4.00000000e+01 0.00000000e+00]\n",
      " [5.00000000e+01 1.00000000e+00 8.33110000e+04 ... 0.00000000e+00\n",
      "  1.30000000e+01 0.00000000e+00]\n",
      " [3.80000000e+01 2.00000000e+00 2.15646000e+05 ... 0.00000000e+00\n",
      "  4.00000000e+01 0.00000000e+00]\n",
      " ...\n",
      " [3.19677741e+01 2.00000000e+00 2.82538856e+05 ... 0.00000000e+00\n",
      "  4.22043190e+01 0.00000000e+00]\n",
      " [4.50596346e+01 1.18807308e+00 2.86673103e+05 ... 1.93244726e+03\n",
      "  4.81192692e+01 0.00000000e+00]\n",
      " [2.90257322e+01 1.76824107e+00 1.07105326e+05 ... 0.00000000e+00\n",
      "  3.76824107e+01 1.15236161e+01]]\n"
     ]
    }
   ],
   "source": [
    "# y_train e y_test sono sbilanciate\n",
    "# SMOTE\n",
    "smote = SMOTE(random_state = 0, sampling_strategy = 'not majority', k_neighbors = 10, n_jobs = -1)\n",
    "x_train_notnan, y_train = smote.fit_resample(x_train_notnan, y_train)\n",
    "print(x_train_notnan.shape, y_train.shape)\n",
    "print(x_train_notnan)\n",
    "\n",
    "# smote = SMOTE(random_state = 0, sampling_strategy = 'not majority', k_neighbors = 10, n_jobs = -1)\n",
    "# x_test_notnan, y_test = smote.fit_resample(x_test_notnan, y_test)\n",
    "# print(x_test_notnan.shape, y_test.shape)\n",
    "# print(x_test_notnan)"
   ]
  },
  {
   "cell_type": "code",
   "execution_count": 27,
   "metadata": {},
   "outputs": [
    {
     "data": {
      "text/plain": [
       "array([[<AxesSubplot:title={'center':'Y'}>]], dtype=object)"
      ]
     },
     "execution_count": 27,
     "metadata": {},
     "output_type": "execute_result"
    },
    {
     "data": {
      "image/png": "[encoded data removed]",
      "text/plain": [
       "<Figure size 432x288 with 1 Axes>"
      ]
     },
     "metadata": {
      "needs_background": "light"
     },
     "output_type": "display_data"
    }
   ],
   "source": [
    "# Verifica bilanciamento y_train\n",
    "y_training_df = pd.DataFrame(y_train, columns = [\"Y\"])\n",
    "y_training_df.hist()"
   ]
  },
  {
   "cell_type": "code",
   "execution_count": 28,
   "metadata": {},
   "outputs": [
    {
     "data": {
      "text/plain": [
       "array([[<AxesSubplot:title={'center':'Y'}>]], dtype=object)"
      ]
     },
     "execution_count": 28,
     "metadata": {},
     "output_type": "execute_result"
    },
    {
     "data": {
      "image/png": "[encoded data removed]",
      "text/plain": [
       "<Figure size 432x288 with 1 Axes>"
      ]
     },
     "metadata": {
      "needs_background": "light"
     },
     "output_type": "display_data"
    }
   ],
   "source": [
    "# Verifica bilanciamento y_test\n",
    "y_test_df = pd.DataFrame(y_test, columns = [\"Y\"])\n",
    "y_test_df.hist()"
   ]
  },
  {
   "cell_type": "markdown",
   "metadata": {},
   "source": [
    "#### Scaling\n",
    "\n",
    "Scalare i dati serve a migliorare il comportamento degli algoritmi di learning, dal momento che i dati potrebbero avere valori di tipi diversi tra loro. Valori troppo grandi possono comportarsi da outlier e stravolgere il funzionamento di un algoritmo.\n",
    "\n",
    "Per scalare i dati si utilizza la normalizzazione attraverso lo *StandardScaler* offerto da sklearn, che normalizza le feature rimuovendo la media e scalando a varianza unitaria.\n",
    "\n",
    "Il valore normalizzato di x è calcolato come: $$x = \\frac{z-u}{S}$$\n",
    "\n",
    "*StandardScaler* è stato preferito agli altri scaler poiché computazionalmente conveniente, oltre al fatto che i risultati erano pressoché identici."
   ]
  },
  {
   "cell_type": "code",
   "execution_count": 29,
   "metadata": {},
   "outputs": [
    {
     "name": "stdout",
     "output_type": "stream",
     "text": [
      "StandardScaler\n",
      "Media distribuzione di partenza: [4.05111447e+01 2.15751387e+00 1.89184554e+05 3.30140639e+00\n",
      " 1.05954703e+01 1.08662537e+00 4.07414151e+00 1.38858284e+00\n",
      " 1.96167837e-01 2.67137059e-01 2.17232303e+03 1.15493478e+02\n",
      " 4.20954323e+01 8.23990091e-01]\n",
      "Media distribuzione scalata: [-1.03757207e-15  2.21726170e-14 -2.49297092e-15 -2.48238202e-15\n",
      " -1.10399763e-14 -2.13899233e-15  2.86814140e-15  4.02954508e-14\n",
      " -1.32488559e-14 -2.63388753e-14 -2.84389721e-14  2.70199281e-14\n",
      " -3.04003558e-14  3.44500265e-15]\n",
      "Deviazione standard distribuzione di partenza: [1.24321911e+01 9.21677132e-01 1.03669536e+05 3.20736232e+00\n",
      " 2.48249925e+00 1.07244819e+00 2.77705134e+00 1.23204175e+00\n",
      " 5.66724129e-01 4.26595560e-01 1.10650611e+04 4.56750153e+02\n",
      " 1.14751090e+01 3.65886220e+00]\n",
      "Deviazione standard distribuzione scalata: [1. 1. 1. 1. 1. 1. 1. 1. 1. 1. 1. 1. 1. 1.]\n",
      "Media distribuzione di partenza: [3.84698020e+01 2.10915842e+00 1.89688855e+05 3.53564356e+00\n",
      " 1.00910891e+01 1.04480198e+00 4.22277228e+00 1.55346535e+00\n",
      " 2.20049505e-01 3.28712871e-01 8.77582673e+02 8.93643564e+01\n",
      " 4.05740099e+01 8.95049505e-01]\n",
      "Media distribuzione scalata: [-0.16419814 -0.05246464  0.0048645   0.07303109 -0.20317477 -0.03899805\n",
      "  0.05352107  0.13382867  0.04213985  0.14434237 -0.11701159 -0.0572066\n",
      " -0.13258457  0.01942118]\n",
      "Deviazione standard distribuzione di partenza: [1.34612233e+01 9.07458252e-01 1.07347702e+05 3.48507665e+00\n",
      " 2.58012583e+00 1.19019206e+00 2.94190890e+00 1.43906353e+00\n",
      " 6.24058893e-01 4.69745377e-01 5.75800290e+03 4.05788944e+02\n",
      " 1.26468001e+01 4.10745220e+00]\n",
      "Deviazione standard distribuzione scalata: [1.08277159 0.98457282 1.03547971 1.08658652 1.03932593 1.1097898\n",
      " 1.05936424 1.16803146 1.10116874 1.10114924 0.52037696 0.88842651\n",
      " 1.10210719 1.12260369]\n"
     ]
    }
   ],
   "source": [
    "# Scaling con StandardScaler\n",
    "\n",
    "print(\"StandardScaler\")\n",
    "scaler = StandardScaler()\n",
    "x_train_scaled = scaler.fit_transform(x_train_notnan)\n",
    "x_test_scaled = scaler.transform(x_test_notnan)\n",
    "\n",
    "print(\"Media distribuzione di partenza: {}\".format(np.mean(x_train_notnan, axis=0)))\n",
    "print(\"Media distribuzione scalata: {}\".format(np.mean(x_train_scaled, axis=0)))\n",
    "\n",
    "print(\"Deviazione standard distribuzione di partenza: {}\".format(np.std(x_train_notnan, axis=0)))\n",
    "print(\"Deviazione standard distribuzione scalata: {}\".format(np.std(x_train_scaled, axis=0)))\n",
    "\n",
    "print(\"Media distribuzione di partenza: {}\".format(np.mean(x_test_notnan, axis=0)))\n",
    "print(\"Media distribuzione scalata: {}\".format(np.mean(x_test_scaled, axis=0)))\n",
    "\n",
    "print(\"Deviazione standard distribuzione di partenza: {}\".format(np.std(x_test_notnan, axis=0)))\n",
    "print(\"Deviazione standard distribuzione scalata: {}\".format(np.std(x_test_scaled, axis=0)))"
   ]
  },
  {
   "cell_type": "markdown",
   "metadata": {},
   "source": [
    "### Classificazione"
   ]
  },
  {
   "cell_type": "markdown",
   "metadata": {},
   "source": [
    "#### AdaBoost\n",
    "\n",
    "In questa implementazione di Adaboost abbiamo usato la funzione *GridSearchCV*, che prende in input delle liste di parametri ed effettua una k-fold cross validation per l'addestramento con ogni singola combinazione dei parametri passati, per poi comunicare il risultato migliore e con quale configurazione di iperaparametri è stato ottenuto.\n",
    "\n",
    "In questo caso è stata usata una 2-times 5-fold cross validation.\n",
    "\n",
    "In particolare i parametri immessi in *GridSearchCV* sono: una lista del numero di stimatori, una lista di learning rate da utilizzare, il numero di fold in cui splittare il training set e il numero di ripetizioni da effettuare.\n",
    "\n",
    "Infine, l'*AdaBoostClassifier* utilizzato è quello di default, ovvero un decision tree con profondità 1 (uno stump).\n",
    "\n",
    "Il valore stampato indica l'accuracy della predizione (in percentuale) sul training set. Insieme a esso viene mostrata la matrice di confusione con i valori di TP, TN, FP, FN."
   ]
  },
  {
   "cell_type": "code",
   "execution_count": 30,
   "metadata": {},
   "outputs": [
    {
     "name": "stdout",
     "output_type": "stream",
     "text": [
      "Best: 0.911369 using {'learning_rate': 1, 'n_estimators': 1000}\n",
      "0.8663366336633663\n"
     ]
    },
    {
     "data": {
      "image/png": "[encoded data removed]",
      "text/plain": [
       "<Figure size 432x288 with 2 Axes>"
      ]
     },
     "metadata": {
      "needs_background": "light"
     },
     "output_type": "display_data"
    }
   ],
   "source": [
    "from sklearn.ensemble import AdaBoostClassifier\n",
    "\n",
    "classifierADA = AdaBoostClassifier()\n",
    "\n",
    "grid = dict()\n",
    "# grid['n_estimators'] = [40, 200, 1000]\n",
    "# grid['learning_rate'] = [.001, .01, .1, 1]\n",
    "grid['n_estimators'] = [1000]\n",
    "grid['learning_rate'] = [1]\n",
    "\n",
    "# define the evaluation procedure\n",
    "cv = RepeatedStratifiedKFold(n_splits = 10, n_repeats = 3, random_state = 1)\n",
    "\n",
    "# define the grid search procedure\n",
    "grid_search = GridSearchCV(estimator = classifierADA, param_grid = grid, n_jobs = -1, cv = cv, scoring = 'accuracy')\n",
    "\n",
    "# execute the grid search\n",
    "grid_fit = grid_search.fit(x_train_scaled, y_train)\n",
    "\n",
    "# execute the grid search\n",
    "y_pred_rf = grid_search.predict(x_test_scaled)\n",
    "\n",
    "# summarize the best score and configuration\n",
    "print(\"Best: %f using %s\" % (grid_fit.best_score_ , grid_fit.best_params_))\n",
    "\n",
    "CM_ADA = confusion_matrix(y_test, y_pred_rf)\n",
    "PercADA = (CM_ADA[0,0]+CM_ADA[1,1])/CM_ADA.sum()\n",
    "\n",
    "cmd = ConfusionMatrixDisplay(CM_ADA)\n",
    "cmd.plot(cmap = \"Oranges\")\n",
    "\n",
    "print(PercADA)"
   ]
  }
 ],
 "metadata": {
  "kernelspec": {
   "display_name": "Python 3.9.12 ('base')",
   "language": "python",
   "name": "python3"
  },
  "language_info": {
   "codemirror_mode": {
    "name": "ipython",
    "version": 3
   },
   "file_extension": ".py",
   "mimetype": "text/x-python",
   "name": "python",
   "nbconvert_exporter": "python",
   "pygments_lexer": "ipython3",
   "version": "3.9.12"
  },
  "orig_nbformat": 4,
  "vscode": {
   "interpreter": {
    "hash": "b304063b9b5915891955c97f76410147208ba9c12388cc88c2e2efd4c5613ee8"
   }
  }
 },
 "nbformat": 4,
 "nbformat_minor": 2
}
