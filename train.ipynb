{
 "cells": [
  {
   "cell_type": "markdown",
   "metadata": {},
   "source": [
    "# Progetto MOBD 2022\n",
    "## Valerio Famoso 0299845 - Tiziano Taglienti 0304926\n",
    "\n",
    "Lo svolgimento del progetto comprende una fase di lettura del dataset fornito (file *train.csv*) e del test set che verrà usato per la valutazione.\n",
    "\n",
    "Il notebook *train* è costituito da una prima fase di preprocessing, che comprenderà pulizia e riorganizzazione del training set.\n",
    "\n",
    "La codifica delle colonne, l'imputazione dei valori NaN e la scelta del classificatore migliore vengono addestrate ed eseguite in questo notebook, poi salvate su file .pkl e caricate sul notebook *predict*."
   ]
  },
  {
   "cell_type": "markdown",
   "metadata": {},
   "source": [
    "## Indice\n",
    "\n",
    "### • Caricamento e pulizia dataset\n",
    "- Feature Aggregation\n",
    "- Conversione feature categoriche\n",
    "- Imputazione valori NaN\n",
    "- Codifica OneHot\n",
    "\n",
    "### • Preprocessing\n",
    "- Individuazione e rimozione degli outlier\n",
    "- Scaling\n",
    "- Bilanciamento\n",
    "\n",
    "### • Classificazione\n",
    "- AdaBoost\n",
    "\n",
    "### • Dump degli oggetti"
   ]
  },
  {
   "cell_type": "markdown",
   "metadata": {},
   "source": [
    "### Caricamento e pulizia dataset"
   ]
  },
  {
   "cell_type": "code",
   "execution_count": 16,
   "metadata": {},
   "outputs": [],
   "source": [
    "import numpy as np\n",
    "import pandas as pd\n",
    "import matplotlib.pyplot as plt\n",
    "from sklearn.impute import SimpleImputer\n",
    "from sklearn.preprocessing import StandardScaler, RobustScaler, MinMaxScaler\n",
    "from scipy import stats\n",
    "from imblearn.over_sampling import SMOTE\n",
    "from sklearn.metrics import confusion_matrix\n",
    "from sklearn.metrics import ConfusionMatrixDisplay\n",
    "from sklearn.model_selection import GridSearchCV\n",
    "from sklearn.model_selection import RepeatedStratifiedKFold\n",
    "from sklearn.tree import DecisionTreeClassifier\n",
    "from sklearn.preprocessing import OneHotEncoder, LabelEncoder\n",
    "from sklearn.ensemble import AdaBoostClassifier\n",
    "import joblib"
   ]
  },
  {
   "cell_type": "code",
   "execution_count": 2,
   "metadata": {},
   "outputs": [],
   "source": [
    "# Lettura dataset\n",
    "data = pd.read_csv(\"train.csv\", sep = \",\")"
   ]
  },
  {
   "cell_type": "markdown",
   "metadata": {},
   "source": [
    "Nel file ci sono alcune feature con valore NaN."
   ]
  },
  {
   "cell_type": "code",
   "execution_count": 4,
   "metadata": {},
   "outputs": [
    {
     "data": {
      "text/plain": [
       "F0        0\n",
       "F1     1836\n",
       "F2        0\n",
       "F3        0\n",
       "F4        0\n",
       "F5        0\n",
       "F6     1843\n",
       "F7        0\n",
       "F8        0\n",
       "F9        0\n",
       "F10       0\n",
       "F11       0\n",
       "F12       0\n",
       "F13     583\n",
       "Y         0\n",
       "dtype: int64"
      ]
     },
     "execution_count": 4,
     "metadata": {},
     "output_type": "execute_result"
    }
   ],
   "source": [
    "data.isna().sum()\n",
    "# Bisogna imputare i valori NaN"
   ]
  },
  {
   "cell_type": "markdown",
   "metadata": {},
   "source": [
    "![world](World.png)"
   ]
  },
  {
   "cell_type": "markdown",
   "metadata": {},
   "source": [
    "### Feature Aggregation\n",
    "Si sceglie di raggruppare i valori dell'attributo F13 secondo l'appartenenza del Paese a un continente."
   ]
  },
  {
   "cell_type": "code",
   "execution_count": 3,
   "metadata": {},
   "outputs": [
    {
     "name": "stdout",
     "output_type": "stream",
     "text": [
      "USA                   29184\n",
      "Mexico                  643\n",
      "Philippines             198\n",
      "Germany                 137\n",
      "Canada                  121\n",
      "Puerto-Rico             114\n",
      "El-Salvador             106\n",
      "India                   100\n",
      "Cuba                     95\n",
      "England                  90\n",
      "Jamaica                  81\n",
      "South                    80\n",
      "China                    75\n",
      "Italy                    73\n",
      "Dominican-Republic       70\n",
      "Vietnam                  67\n",
      "Guatemala                64\n",
      "Japan                    62\n",
      "Poland                   60\n",
      "Columbia                 59\n",
      "Taiwan                   51\n",
      "Haiti                    44\n",
      "Iran                     43\n",
      "Portugal                 37\n",
      "Nicaragua                34\n",
      "Peru                     31\n",
      "France                   29\n",
      "Greece                   29\n",
      "Ecuador                  28\n",
      "Ireland                  24\n",
      "Hong                     20\n",
      "Cambodia                 19\n",
      "Caribbean                19\n",
      "Thailand                 18\n",
      "Laos                     18\n",
      "Yugoslavia               16\n",
      "Honduras                 13\n",
      "Hungary                  13\n",
      "Scotland                 12\n",
      "Netherlands               1\n",
      "Name: F13, dtype: int64\n"
     ]
    }
   ],
   "source": [
    "data.nunique()\n",
    "counts = data[\"F13\"].value_counts()\n",
    "print(counts)"
   ]
  },
  {
   "cell_type": "markdown",
   "metadata": {},
   "source": [
    "![world](world.png)"
   ]
  },
  {
   "cell_type": "code",
   "execution_count": 5,
   "metadata": {},
   "outputs": [],
   "source": [
    "# Feature aggregation: i Paesi sono stati raggruppati per continenti\n",
    "asia = [\"Philippines\", \"India\", \"South\", \"China\", \"Vietnam\", \"Japan\", \"Taiwan\", \"Iran\", \"Thailand\", \"Cambodia\", \"Laos\", \"Hong\"]\n",
    "europe = [\"Germany\", \"England\", \"Italy\", \"Poland\", \"Portugal\", \"Greece\", \"France\", \"Ireland\", \"Yugoslavia\", \"Hungary\", \"Scotland\", \"Netherlands\"]\n",
    "north_america = [\"USA\", \"Canada\"]\n",
    "central_america = [\"Mexico\", \"Puerto-Rico\", \"El-Salvador\", \"Cuba\", \"Jamaica\", \"Dominican-Republic\", \"Guatemala\", \"Haiti\", \"Nicaragua\", \"Caribbean\", \"Honduras\"]\n",
    "south_america = [\"Columbia\", \"Peru\", \"Ecuador\"]\n",
    "\n",
    "for i in range(len(data)):\n",
    "    if data.loc[i, \"F13\"] in asia:\n",
    "        data.F13.replace(data.loc[i, \"F13\"], \"asia\", inplace = True)\n",
    "    elif data.loc[i, \"F13\"] in europe:\n",
    "        data.F13.replace(data.loc[i, \"F13\"], \"europe\", inplace = True)\n",
    "    elif data.loc[i, \"F13\"] in north_america:\n",
    "        data.F13.replace(data.loc[i, \"F13\"], \"north_america\", inplace = True)\n",
    "    elif data.loc[i, \"F13\"] in central_america:\n",
    "        data.F13.replace(data.loc[i, \"F13\"], \"central_america\", inplace = True)\n",
    "    elif data.loc[i, \"F13\"] in south_america:\n",
    "        data.F13.replace(data.loc[i, \"F13\"], \"south_america\", inplace = True)"
   ]
  },
  {
   "cell_type": "code",
   "execution_count": 6,
   "metadata": {},
   "outputs": [
    {
     "data": {
      "text/html": [
       "<div>\n",
       "<style scoped>\n",
       "    .dataframe tbody tr th:only-of-type {\n",
       "        vertical-align: middle;\n",
       "    }\n",
       "\n",
       "    .dataframe tbody tr th {\n",
       "        vertical-align: top;\n",
       "    }\n",
       "\n",
       "    .dataframe thead th {\n",
       "        text-align: right;\n",
       "    }\n",
       "</style>\n",
       "<table border=\"1\" class=\"dataframe\">\n",
       "  <thead>\n",
       "    <tr style=\"text-align: right;\">\n",
       "      <th></th>\n",
       "      <th>F0</th>\n",
       "      <th>F1</th>\n",
       "      <th>F2</th>\n",
       "      <th>F3</th>\n",
       "      <th>F4</th>\n",
       "      <th>F5</th>\n",
       "      <th>F6</th>\n",
       "      <th>F7</th>\n",
       "      <th>F8</th>\n",
       "      <th>F9</th>\n",
       "      <th>F10</th>\n",
       "      <th>F11</th>\n",
       "      <th>F12</th>\n",
       "      <th>F13</th>\n",
       "      <th>Y</th>\n",
       "    </tr>\n",
       "  </thead>\n",
       "  <tbody>\n",
       "    <tr>\n",
       "      <th>0</th>\n",
       "      <td>39</td>\n",
       "      <td>K1</td>\n",
       "      <td>77516</td>\n",
       "      <td>R1</td>\n",
       "      <td>13</td>\n",
       "      <td>Q1</td>\n",
       "      <td>P1</td>\n",
       "      <td>M1</td>\n",
       "      <td>caucasian</td>\n",
       "      <td>Male</td>\n",
       "      <td>2174</td>\n",
       "      <td>0</td>\n",
       "      <td>40</td>\n",
       "      <td>north_america</td>\n",
       "      <td>0</td>\n",
       "    </tr>\n",
       "    <tr>\n",
       "      <th>1</th>\n",
       "      <td>50</td>\n",
       "      <td>K2</td>\n",
       "      <td>83311</td>\n",
       "      <td>R1</td>\n",
       "      <td>13</td>\n",
       "      <td>Q2</td>\n",
       "      <td>P2</td>\n",
       "      <td>M2</td>\n",
       "      <td>caucasian</td>\n",
       "      <td>Male</td>\n",
       "      <td>0</td>\n",
       "      <td>0</td>\n",
       "      <td>13</td>\n",
       "      <td>north_america</td>\n",
       "      <td>0</td>\n",
       "    </tr>\n",
       "    <tr>\n",
       "      <th>2</th>\n",
       "      <td>38</td>\n",
       "      <td>K3</td>\n",
       "      <td>215646</td>\n",
       "      <td>R2</td>\n",
       "      <td>9</td>\n",
       "      <td>Q3</td>\n",
       "      <td>P3</td>\n",
       "      <td>M1</td>\n",
       "      <td>caucasian</td>\n",
       "      <td>Male</td>\n",
       "      <td>0</td>\n",
       "      <td>0</td>\n",
       "      <td>40</td>\n",
       "      <td>north_america</td>\n",
       "      <td>0</td>\n",
       "    </tr>\n",
       "    <tr>\n",
       "      <th>3</th>\n",
       "      <td>53</td>\n",
       "      <td>K3</td>\n",
       "      <td>234721</td>\n",
       "      <td>R3</td>\n",
       "      <td>7</td>\n",
       "      <td>Q2</td>\n",
       "      <td>P3</td>\n",
       "      <td>M2</td>\n",
       "      <td>black</td>\n",
       "      <td>Male</td>\n",
       "      <td>0</td>\n",
       "      <td>0</td>\n",
       "      <td>40</td>\n",
       "      <td>north_america</td>\n",
       "      <td>0</td>\n",
       "    </tr>\n",
       "    <tr>\n",
       "      <th>4</th>\n",
       "      <td>28</td>\n",
       "      <td>K3</td>\n",
       "      <td>338409</td>\n",
       "      <td>R1</td>\n",
       "      <td>13</td>\n",
       "      <td>Q2</td>\n",
       "      <td>P4</td>\n",
       "      <td>M3</td>\n",
       "      <td>black</td>\n",
       "      <td>Female</td>\n",
       "      <td>0</td>\n",
       "      <td>0</td>\n",
       "      <td>40</td>\n",
       "      <td>central_america</td>\n",
       "      <td>0</td>\n",
       "    </tr>\n",
       "  </tbody>\n",
       "</table>\n",
       "</div>"
      ],
      "text/plain": [
       "   F0  F1      F2  F3  F4  F5  F6  F7         F8      F9   F10  F11  F12  \\\n",
       "0  39  K1   77516  R1  13  Q1  P1  M1  caucasian    Male  2174    0   40   \n",
       "1  50  K2   83311  R1  13  Q2  P2  M2  caucasian    Male     0    0   13   \n",
       "2  38  K3  215646  R2   9  Q3  P3  M1  caucasian    Male     0    0   40   \n",
       "3  53  K3  234721  R3   7  Q2  P3  M2      black    Male     0    0   40   \n",
       "4  28  K3  338409  R1  13  Q2  P4  M3      black  Female     0    0   40   \n",
       "\n",
       "               F13  Y  \n",
       "0    north_america  0  \n",
       "1    north_america  0  \n",
       "2    north_america  0  \n",
       "3    north_america  0  \n",
       "4  central_america  0  "
      ]
     },
     "execution_count": 6,
     "metadata": {},
     "output_type": "execute_result"
    }
   ],
   "source": [
    "data.head()"
   ]
  },
  {
   "cell_type": "markdown",
   "metadata": {},
   "source": [
    "#### Conversione feature categoriche\n",
    "A ogni valore delle feature categoriche viene assegnato un valore numerico tramite la funzione *replace*."
   ]
  },
  {
   "cell_type": "code",
   "execution_count": 7,
   "metadata": {},
   "outputs": [],
   "source": [
    "# Colonne feature categoriche\n",
    "colF1 = ['K1', 'K2', 'K3', 'K4', 'K5', 'K6', 'K7', 'K8']\n",
    "colF3 = ['R1', 'R2', 'R3', 'R4', 'R5', 'R6', 'R7', 'R8', 'R9', 'R10', 'R11', 'R12', 'R13', 'R14', 'R15', 'R16']\n",
    "colF5 = ['Q1', 'Q2', 'Q3', 'Q4', 'Q5', 'Q6', 'Q7']\n",
    "colF6 = ['P1', 'P2', 'P3', 'P4', 'P5', 'P6', 'P7', 'P8', 'P9', 'P10', 'P11', 'P12', 'P13', 'P14']\n",
    "colF7 = ['M1', 'M2', 'M3', 'M4', 'M5', 'M6']\n",
    "colF8 = ['caucasian', 'black', 'asian', 'american', 'other']\n",
    "colF9 = ['Male', 'Female']\n",
    "colF13 = ['asia', 'europe', 'north_america', 'central_america', 'south_america']\n",
    "\n",
    "# Codifica delle feature categoriche\n",
    "data.F1.replace(colF1, [0, 1, 2, 3, 4, 5, 6, 7], inplace = True)\n",
    "data.F3.replace(colF3, [0, 1, 2, 3, 4, 5, 6, 7, 8, 9, 10, 11, 12, 13, 14, 15], inplace = True)\n",
    "data.F5.replace(colF5, [0, 1, 2, 3, 4, 5, 6], inplace = True)\n",
    "data.F6.replace(colF6, [0, 1, 2, 3, 4, 5, 6, 7, 8, 9, 10, 11, 12, 13], inplace = True)\n",
    "data.F7.replace(colF7, [0, 1, 2, 3, 4, 5], inplace = True)\n",
    "data.F8.replace(colF8, [0, 1, 2, 3, 4], inplace = True)\n",
    "data.F9.replace(colF9, [0, 1], inplace = True)\n",
    "data.F13.replace(colF13, [0, 1, 2, 3, 4], inplace = True)"
   ]
  },
  {
   "cell_type": "markdown",
   "metadata": {},
   "source": [
    "Suddivisione tra insieme di punti (x) e target (y)."
   ]
  },
  {
   "cell_type": "code",
   "execution_count": 8,
   "metadata": {},
   "outputs": [
    {
     "name": "stdout",
     "output_type": "stream",
     "text": [
      "(32561, 14)\n",
      "(32561,)\n"
     ]
    }
   ],
   "source": [
    "# Suddivisione tra feature e target\n",
    "x_train = data.iloc[:, :-1].values\n",
    "y_train = data.iloc[:, -1].values\n",
    "print(x_train.shape)\n",
    "print(y_train.shape)"
   ]
  },
  {
   "cell_type": "markdown",
   "metadata": {},
   "source": [
    "Si verifica di nuovo che tra i punti, alcuni compaiono con valore NaN."
   ]
  },
  {
   "cell_type": "code",
   "execution_count": 9,
   "metadata": {},
   "outputs": [
    {
     "data": {
      "text/plain": [
       "array([[   14,    13],\n",
       "       [   27,     1],\n",
       "       [   27,     6],\n",
       "       ...,\n",
       "       [32541,     6],\n",
       "       [32542,     1],\n",
       "       [32542,     6]], dtype=int64)"
      ]
     },
     "execution_count": 9,
     "metadata": {},
     "output_type": "execute_result"
    }
   ],
   "source": [
    "np.argwhere(np.isnan(x_train))"
   ]
  },
  {
   "cell_type": "markdown",
   "metadata": {},
   "source": [
    "#### Imputazione valori NaN\n",
    "In questa fase si sfrutta *SimpleImputer* per sostituire i valori NaN seguendo una strategia *most_frequent*.\n",
    "Quest'ultima è stata preferita alle alternative perché considerata più adatta agli scopi e meno onerosa."
   ]
  },
  {
   "cell_type": "code",
   "execution_count": 10,
   "metadata": {},
   "outputs": [
    {
     "name": "stdout",
     "output_type": "stream",
     "text": [
      "SimpleImputer\n",
      "[]\n"
     ]
    }
   ],
   "source": [
    "# Imputazione dei valori NaN tramite SimpleImputer, con la strategia che sostituisce i valori mancanti con la moda dei valori della feature\n",
    "print(\"SimpleImputer\")\n",
    "imp = SimpleImputer(missing_values = np.nan, strategy = 'most_frequent')\n",
    "x_train_notnan = imp.fit_transform(x_train)\n",
    "print(x_train_notnan[pd.isna(x_train[:,0]),0][0:10])"
   ]
  },
  {
   "cell_type": "markdown",
   "metadata": {},
   "source": [
    "Verifica della definitiva rimozione dei valori NaN."
   ]
  },
  {
   "cell_type": "code",
   "execution_count": 11,
   "metadata": {},
   "outputs": [
    {
     "data": {
      "text/plain": [
       "array([], shape=(0, 2), dtype=int64)"
      ]
     },
     "execution_count": 11,
     "metadata": {},
     "output_type": "execute_result"
    }
   ],
   "source": [
    "np.argwhere(np.isnan(x_train_notnan))"
   ]
  },
  {
   "cell_type": "markdown",
   "metadata": {},
   "source": [
    "Dopo aver riempito le celle vuote, dal vettore risultante (x_train_notnan) viene creato il dataframe."
   ]
  },
  {
   "cell_type": "code",
   "execution_count": 12,
   "metadata": {},
   "outputs": [],
   "source": [
    "# Creazione DataFrame da insiemi di train dopo l'imputazione dei valori mancanti \n",
    "colF = ['F0','F1','F2','F3','F4','F5','F6','F7','F8','F9','F10','F11','F12','F13']\n",
    "\n",
    "training_set_df = pd.DataFrame(x_train_notnan, columns = colF)"
   ]
  },
  {
   "cell_type": "code",
   "execution_count": 13,
   "metadata": {},
   "outputs": [
    {
     "data": {
      "text/html": [
       "<div>\n",
       "<style scoped>\n",
       "    .dataframe tbody tr th:only-of-type {\n",
       "        vertical-align: middle;\n",
       "    }\n",
       "\n",
       "    .dataframe tbody tr th {\n",
       "        vertical-align: top;\n",
       "    }\n",
       "\n",
       "    .dataframe thead th {\n",
       "        text-align: right;\n",
       "    }\n",
       "</style>\n",
       "<table border=\"1\" class=\"dataframe\">\n",
       "  <thead>\n",
       "    <tr style=\"text-align: right;\">\n",
       "      <th></th>\n",
       "      <th>F0</th>\n",
       "      <th>F1</th>\n",
       "      <th>F2</th>\n",
       "      <th>F3</th>\n",
       "      <th>F4</th>\n",
       "      <th>F5</th>\n",
       "      <th>F6</th>\n",
       "      <th>F7</th>\n",
       "      <th>F8</th>\n",
       "      <th>F9</th>\n",
       "      <th>F10</th>\n",
       "      <th>F11</th>\n",
       "      <th>F12</th>\n",
       "      <th>F13</th>\n",
       "    </tr>\n",
       "  </thead>\n",
       "  <tbody>\n",
       "    <tr>\n",
       "      <th>0</th>\n",
       "      <td>39.0</td>\n",
       "      <td>0.0</td>\n",
       "      <td>77516.0</td>\n",
       "      <td>0.0</td>\n",
       "      <td>13.0</td>\n",
       "      <td>0.0</td>\n",
       "      <td>0.0</td>\n",
       "      <td>0.0</td>\n",
       "      <td>0.0</td>\n",
       "      <td>0.0</td>\n",
       "      <td>2174.0</td>\n",
       "      <td>0.0</td>\n",
       "      <td>40.0</td>\n",
       "      <td>2.0</td>\n",
       "    </tr>\n",
       "    <tr>\n",
       "      <th>1</th>\n",
       "      <td>50.0</td>\n",
       "      <td>1.0</td>\n",
       "      <td>83311.0</td>\n",
       "      <td>0.0</td>\n",
       "      <td>13.0</td>\n",
       "      <td>1.0</td>\n",
       "      <td>1.0</td>\n",
       "      <td>1.0</td>\n",
       "      <td>0.0</td>\n",
       "      <td>0.0</td>\n",
       "      <td>0.0</td>\n",
       "      <td>0.0</td>\n",
       "      <td>13.0</td>\n",
       "      <td>2.0</td>\n",
       "    </tr>\n",
       "    <tr>\n",
       "      <th>2</th>\n",
       "      <td>38.0</td>\n",
       "      <td>2.0</td>\n",
       "      <td>215646.0</td>\n",
       "      <td>1.0</td>\n",
       "      <td>9.0</td>\n",
       "      <td>2.0</td>\n",
       "      <td>2.0</td>\n",
       "      <td>0.0</td>\n",
       "      <td>0.0</td>\n",
       "      <td>0.0</td>\n",
       "      <td>0.0</td>\n",
       "      <td>0.0</td>\n",
       "      <td>40.0</td>\n",
       "      <td>2.0</td>\n",
       "    </tr>\n",
       "    <tr>\n",
       "      <th>3</th>\n",
       "      <td>53.0</td>\n",
       "      <td>2.0</td>\n",
       "      <td>234721.0</td>\n",
       "      <td>2.0</td>\n",
       "      <td>7.0</td>\n",
       "      <td>1.0</td>\n",
       "      <td>2.0</td>\n",
       "      <td>1.0</td>\n",
       "      <td>1.0</td>\n",
       "      <td>0.0</td>\n",
       "      <td>0.0</td>\n",
       "      <td>0.0</td>\n",
       "      <td>40.0</td>\n",
       "      <td>2.0</td>\n",
       "    </tr>\n",
       "    <tr>\n",
       "      <th>4</th>\n",
       "      <td>28.0</td>\n",
       "      <td>2.0</td>\n",
       "      <td>338409.0</td>\n",
       "      <td>0.0</td>\n",
       "      <td>13.0</td>\n",
       "      <td>1.0</td>\n",
       "      <td>3.0</td>\n",
       "      <td>2.0</td>\n",
       "      <td>1.0</td>\n",
       "      <td>1.0</td>\n",
       "      <td>0.0</td>\n",
       "      <td>0.0</td>\n",
       "      <td>40.0</td>\n",
       "      <td>3.0</td>\n",
       "    </tr>\n",
       "  </tbody>\n",
       "</table>\n",
       "</div>"
      ],
      "text/plain": [
       "     F0   F1        F2   F3    F4   F5   F6   F7   F8   F9     F10  F11   F12  \\\n",
       "0  39.0  0.0   77516.0  0.0  13.0  0.0  0.0  0.0  0.0  0.0  2174.0  0.0  40.0   \n",
       "1  50.0  1.0   83311.0  0.0  13.0  1.0  1.0  1.0  0.0  0.0     0.0  0.0  13.0   \n",
       "2  38.0  2.0  215646.0  1.0   9.0  2.0  2.0  0.0  0.0  0.0     0.0  0.0  40.0   \n",
       "3  53.0  2.0  234721.0  2.0   7.0  1.0  2.0  1.0  1.0  0.0     0.0  0.0  40.0   \n",
       "4  28.0  2.0  338409.0  0.0  13.0  1.0  3.0  2.0  1.0  1.0     0.0  0.0  40.0   \n",
       "\n",
       "   F13  \n",
       "0  2.0  \n",
       "1  2.0  \n",
       "2  2.0  \n",
       "3  2.0  \n",
       "4  3.0  "
      ]
     },
     "execution_count": 13,
     "metadata": {},
     "output_type": "execute_result"
    }
   ],
   "source": [
    "training_set_df.head()"
   ]
  },
  {
   "cell_type": "markdown",
   "metadata": {},
   "source": [
    "#### Codifica OneHot\n",
    "Le feature categoriche che erano state convertite, adesso vengono tradotte in formato binario grazie alla codifica OneHot.\n",
    "\n",
    "Lo scopo di questo passaggio è bilanciare e normalizzare i valori delle feature.\n",
    "\n",
    "Muovendosi all'interno delle sole feature categoriche, si crea una lista di OneHotEncoder, uno per ogni attributo. La scelta è stata dettata da una maggiore facilità nel procedimento.\n",
    "\n",
    "Per l'addestramento si utilizzano i metodi *fit* e *transform*.\n",
    "\n",
    "Infine le colonne risultanti vengono sostituite a quelle vecchie."
   ]
  },
  {
   "cell_type": "code",
   "execution_count": 14,
   "metadata": {},
   "outputs": [
    {
     "data": {
      "text/html": [
       "<div>\n",
       "<style scoped>\n",
       "    .dataframe tbody tr th:only-of-type {\n",
       "        vertical-align: middle;\n",
       "    }\n",
       "\n",
       "    .dataframe tbody tr th {\n",
       "        vertical-align: top;\n",
       "    }\n",
       "\n",
       "    .dataframe thead th {\n",
       "        text-align: right;\n",
       "    }\n",
       "</style>\n",
       "<table border=\"1\" class=\"dataframe\">\n",
       "  <thead>\n",
       "    <tr style=\"text-align: right;\">\n",
       "      <th></th>\n",
       "      <th>K1</th>\n",
       "      <th>K2</th>\n",
       "      <th>K3</th>\n",
       "      <th>K4</th>\n",
       "      <th>K5</th>\n",
       "      <th>K6</th>\n",
       "      <th>K7</th>\n",
       "      <th>K8</th>\n",
       "      <th>R1</th>\n",
       "      <th>R2</th>\n",
       "      <th>...</th>\n",
       "      <th>asian</th>\n",
       "      <th>american</th>\n",
       "      <th>other</th>\n",
       "      <th>Male</th>\n",
       "      <th>Female</th>\n",
       "      <th>asia</th>\n",
       "      <th>europe</th>\n",
       "      <th>north_america</th>\n",
       "      <th>central_america</th>\n",
       "      <th>south_america</th>\n",
       "    </tr>\n",
       "  </thead>\n",
       "  <tbody>\n",
       "    <tr>\n",
       "      <th>0</th>\n",
       "      <td>1.0</td>\n",
       "      <td>0.0</td>\n",
       "      <td>0.0</td>\n",
       "      <td>0.0</td>\n",
       "      <td>0.0</td>\n",
       "      <td>0.0</td>\n",
       "      <td>0.0</td>\n",
       "      <td>0.0</td>\n",
       "      <td>1.0</td>\n",
       "      <td>0.0</td>\n",
       "      <td>...</td>\n",
       "      <td>0.0</td>\n",
       "      <td>0.0</td>\n",
       "      <td>0.0</td>\n",
       "      <td>1.0</td>\n",
       "      <td>0.0</td>\n",
       "      <td>0.0</td>\n",
       "      <td>0.0</td>\n",
       "      <td>1.0</td>\n",
       "      <td>0.0</td>\n",
       "      <td>0.0</td>\n",
       "    </tr>\n",
       "    <tr>\n",
       "      <th>1</th>\n",
       "      <td>0.0</td>\n",
       "      <td>1.0</td>\n",
       "      <td>0.0</td>\n",
       "      <td>0.0</td>\n",
       "      <td>0.0</td>\n",
       "      <td>0.0</td>\n",
       "      <td>0.0</td>\n",
       "      <td>0.0</td>\n",
       "      <td>1.0</td>\n",
       "      <td>0.0</td>\n",
       "      <td>...</td>\n",
       "      <td>0.0</td>\n",
       "      <td>0.0</td>\n",
       "      <td>0.0</td>\n",
       "      <td>1.0</td>\n",
       "      <td>0.0</td>\n",
       "      <td>0.0</td>\n",
       "      <td>0.0</td>\n",
       "      <td>1.0</td>\n",
       "      <td>0.0</td>\n",
       "      <td>0.0</td>\n",
       "    </tr>\n",
       "    <tr>\n",
       "      <th>2</th>\n",
       "      <td>0.0</td>\n",
       "      <td>0.0</td>\n",
       "      <td>1.0</td>\n",
       "      <td>0.0</td>\n",
       "      <td>0.0</td>\n",
       "      <td>0.0</td>\n",
       "      <td>0.0</td>\n",
       "      <td>0.0</td>\n",
       "      <td>0.0</td>\n",
       "      <td>1.0</td>\n",
       "      <td>...</td>\n",
       "      <td>0.0</td>\n",
       "      <td>0.0</td>\n",
       "      <td>0.0</td>\n",
       "      <td>1.0</td>\n",
       "      <td>0.0</td>\n",
       "      <td>0.0</td>\n",
       "      <td>0.0</td>\n",
       "      <td>1.0</td>\n",
       "      <td>0.0</td>\n",
       "      <td>0.0</td>\n",
       "    </tr>\n",
       "    <tr>\n",
       "      <th>3</th>\n",
       "      <td>0.0</td>\n",
       "      <td>0.0</td>\n",
       "      <td>1.0</td>\n",
       "      <td>0.0</td>\n",
       "      <td>0.0</td>\n",
       "      <td>0.0</td>\n",
       "      <td>0.0</td>\n",
       "      <td>0.0</td>\n",
       "      <td>0.0</td>\n",
       "      <td>0.0</td>\n",
       "      <td>...</td>\n",
       "      <td>0.0</td>\n",
       "      <td>0.0</td>\n",
       "      <td>0.0</td>\n",
       "      <td>1.0</td>\n",
       "      <td>0.0</td>\n",
       "      <td>0.0</td>\n",
       "      <td>0.0</td>\n",
       "      <td>1.0</td>\n",
       "      <td>0.0</td>\n",
       "      <td>0.0</td>\n",
       "    </tr>\n",
       "    <tr>\n",
       "      <th>4</th>\n",
       "      <td>0.0</td>\n",
       "      <td>0.0</td>\n",
       "      <td>1.0</td>\n",
       "      <td>0.0</td>\n",
       "      <td>0.0</td>\n",
       "      <td>0.0</td>\n",
       "      <td>0.0</td>\n",
       "      <td>0.0</td>\n",
       "      <td>1.0</td>\n",
       "      <td>0.0</td>\n",
       "      <td>...</td>\n",
       "      <td>0.0</td>\n",
       "      <td>0.0</td>\n",
       "      <td>0.0</td>\n",
       "      <td>0.0</td>\n",
       "      <td>1.0</td>\n",
       "      <td>0.0</td>\n",
       "      <td>0.0</td>\n",
       "      <td>0.0</td>\n",
       "      <td>1.0</td>\n",
       "      <td>0.0</td>\n",
       "    </tr>\n",
       "    <tr>\n",
       "      <th>5</th>\n",
       "      <td>0.0</td>\n",
       "      <td>0.0</td>\n",
       "      <td>1.0</td>\n",
       "      <td>0.0</td>\n",
       "      <td>0.0</td>\n",
       "      <td>0.0</td>\n",
       "      <td>0.0</td>\n",
       "      <td>0.0</td>\n",
       "      <td>0.0</td>\n",
       "      <td>0.0</td>\n",
       "      <td>...</td>\n",
       "      <td>0.0</td>\n",
       "      <td>0.0</td>\n",
       "      <td>0.0</td>\n",
       "      <td>0.0</td>\n",
       "      <td>1.0</td>\n",
       "      <td>0.0</td>\n",
       "      <td>0.0</td>\n",
       "      <td>1.0</td>\n",
       "      <td>0.0</td>\n",
       "      <td>0.0</td>\n",
       "    </tr>\n",
       "    <tr>\n",
       "      <th>6</th>\n",
       "      <td>0.0</td>\n",
       "      <td>0.0</td>\n",
       "      <td>1.0</td>\n",
       "      <td>0.0</td>\n",
       "      <td>0.0</td>\n",
       "      <td>0.0</td>\n",
       "      <td>0.0</td>\n",
       "      <td>0.0</td>\n",
       "      <td>0.0</td>\n",
       "      <td>0.0</td>\n",
       "      <td>...</td>\n",
       "      <td>0.0</td>\n",
       "      <td>0.0</td>\n",
       "      <td>0.0</td>\n",
       "      <td>0.0</td>\n",
       "      <td>1.0</td>\n",
       "      <td>0.0</td>\n",
       "      <td>0.0</td>\n",
       "      <td>0.0</td>\n",
       "      <td>1.0</td>\n",
       "      <td>0.0</td>\n",
       "    </tr>\n",
       "    <tr>\n",
       "      <th>7</th>\n",
       "      <td>0.0</td>\n",
       "      <td>1.0</td>\n",
       "      <td>0.0</td>\n",
       "      <td>0.0</td>\n",
       "      <td>0.0</td>\n",
       "      <td>0.0</td>\n",
       "      <td>0.0</td>\n",
       "      <td>0.0</td>\n",
       "      <td>0.0</td>\n",
       "      <td>1.0</td>\n",
       "      <td>...</td>\n",
       "      <td>0.0</td>\n",
       "      <td>0.0</td>\n",
       "      <td>0.0</td>\n",
       "      <td>1.0</td>\n",
       "      <td>0.0</td>\n",
       "      <td>0.0</td>\n",
       "      <td>0.0</td>\n",
       "      <td>1.0</td>\n",
       "      <td>0.0</td>\n",
       "      <td>0.0</td>\n",
       "    </tr>\n",
       "    <tr>\n",
       "      <th>8</th>\n",
       "      <td>0.0</td>\n",
       "      <td>0.0</td>\n",
       "      <td>1.0</td>\n",
       "      <td>0.0</td>\n",
       "      <td>0.0</td>\n",
       "      <td>0.0</td>\n",
       "      <td>0.0</td>\n",
       "      <td>0.0</td>\n",
       "      <td>0.0</td>\n",
       "      <td>0.0</td>\n",
       "      <td>...</td>\n",
       "      <td>0.0</td>\n",
       "      <td>0.0</td>\n",
       "      <td>0.0</td>\n",
       "      <td>0.0</td>\n",
       "      <td>1.0</td>\n",
       "      <td>0.0</td>\n",
       "      <td>0.0</td>\n",
       "      <td>1.0</td>\n",
       "      <td>0.0</td>\n",
       "      <td>0.0</td>\n",
       "    </tr>\n",
       "    <tr>\n",
       "      <th>9</th>\n",
       "      <td>0.0</td>\n",
       "      <td>0.0</td>\n",
       "      <td>1.0</td>\n",
       "      <td>0.0</td>\n",
       "      <td>0.0</td>\n",
       "      <td>0.0</td>\n",
       "      <td>0.0</td>\n",
       "      <td>0.0</td>\n",
       "      <td>1.0</td>\n",
       "      <td>0.0</td>\n",
       "      <td>...</td>\n",
       "      <td>0.0</td>\n",
       "      <td>0.0</td>\n",
       "      <td>0.0</td>\n",
       "      <td>1.0</td>\n",
       "      <td>0.0</td>\n",
       "      <td>0.0</td>\n",
       "      <td>0.0</td>\n",
       "      <td>1.0</td>\n",
       "      <td>0.0</td>\n",
       "      <td>0.0</td>\n",
       "    </tr>\n",
       "  </tbody>\n",
       "</table>\n",
       "<p>10 rows × 63 columns</p>\n",
       "</div>"
      ],
      "text/plain": [
       "    K1   K2   K3   K4   K5   K6   K7   K8   R1   R2  ...  asian  american  \\\n",
       "0  1.0  0.0  0.0  0.0  0.0  0.0  0.0  0.0  1.0  0.0  ...    0.0       0.0   \n",
       "1  0.0  1.0  0.0  0.0  0.0  0.0  0.0  0.0  1.0  0.0  ...    0.0       0.0   \n",
       "2  0.0  0.0  1.0  0.0  0.0  0.0  0.0  0.0  0.0  1.0  ...    0.0       0.0   \n",
       "3  0.0  0.0  1.0  0.0  0.0  0.0  0.0  0.0  0.0  0.0  ...    0.0       0.0   \n",
       "4  0.0  0.0  1.0  0.0  0.0  0.0  0.0  0.0  1.0  0.0  ...    0.0       0.0   \n",
       "5  0.0  0.0  1.0  0.0  0.0  0.0  0.0  0.0  0.0  0.0  ...    0.0       0.0   \n",
       "6  0.0  0.0  1.0  0.0  0.0  0.0  0.0  0.0  0.0  0.0  ...    0.0       0.0   \n",
       "7  0.0  1.0  0.0  0.0  0.0  0.0  0.0  0.0  0.0  1.0  ...    0.0       0.0   \n",
       "8  0.0  0.0  1.0  0.0  0.0  0.0  0.0  0.0  0.0  0.0  ...    0.0       0.0   \n",
       "9  0.0  0.0  1.0  0.0  0.0  0.0  0.0  0.0  1.0  0.0  ...    0.0       0.0   \n",
       "\n",
       "   other  Male  Female  asia  europe  north_america  central_america  \\\n",
       "0    0.0   1.0     0.0   0.0     0.0            1.0              0.0   \n",
       "1    0.0   1.0     0.0   0.0     0.0            1.0              0.0   \n",
       "2    0.0   1.0     0.0   0.0     0.0            1.0              0.0   \n",
       "3    0.0   1.0     0.0   0.0     0.0            1.0              0.0   \n",
       "4    0.0   0.0     1.0   0.0     0.0            0.0              1.0   \n",
       "5    0.0   0.0     1.0   0.0     0.0            1.0              0.0   \n",
       "6    0.0   0.0     1.0   0.0     0.0            0.0              1.0   \n",
       "7    0.0   1.0     0.0   0.0     0.0            1.0              0.0   \n",
       "8    0.0   0.0     1.0   0.0     0.0            1.0              0.0   \n",
       "9    0.0   1.0     0.0   0.0     0.0            1.0              0.0   \n",
       "\n",
       "   south_america  \n",
       "0            0.0  \n",
       "1            0.0  \n",
       "2            0.0  \n",
       "3            0.0  \n",
       "4            0.0  \n",
       "5            0.0  \n",
       "6            0.0  \n",
       "7            0.0  \n",
       "8            0.0  \n",
       "9            0.0  \n",
       "\n",
       "[10 rows x 63 columns]"
      ]
     },
     "execution_count": 14,
     "metadata": {},
     "output_type": "execute_result"
    }
   ],
   "source": [
    "# Codifica OneHot: i valori delle feature categoriche vengono codificati secondo la tecnica OneHot\n",
    "# Si istanzia un Encoder per ogni feature categorica e si invoca il metodo fit per poi invocare il transform durante la predizione\n",
    "categorical = ['F1','F3','F5','F6','F7','F8','F9', 'F13']\n",
    "onehot_df = pd.DataFrame()\n",
    "columns = [colF1, colF3, colF5, colF6, colF7, colF8, colF9, colF13]\n",
    "categorical_df = pd.DataFrame()\n",
    "\n",
    "for i in categorical:\n",
    "    categorical_df = pd.concat([categorical_df, training_set_df[i]], axis = 1)\n",
    "\n",
    "onehot_encoders = []\n",
    "j = 0\n",
    "\n",
    "# Creazione del dataframe con le colonne codificate\n",
    "for i in categorical:\n",
    "    # one hot encoding della colonna i\n",
    "    onehot_enc = OneHotEncoder()\n",
    "    temp = pd.DataFrame(categorical_df[i].values)\n",
    "    onehot_enc.fit(temp)\n",
    "    onehot_encoders.append(onehot_enc)\n",
    "\n",
    "    transformed = onehot_enc.transform(temp)\n",
    "\n",
    "    transformed_df = pd.DataFrame(transformed.toarray(), columns = columns[j], index = temp.index)\n",
    "\n",
    "    onehot_df = pd.concat([onehot_df, transformed_df], axis = 1)\n",
    "    j += 1\n",
    "\n",
    "onehot_df.head(10)"
   ]
  },
  {
   "cell_type": "code",
   "execution_count": 15,
   "metadata": {},
   "outputs": [
    {
     "data": {
      "text/html": [
       "<div>\n",
       "<style scoped>\n",
       "    .dataframe tbody tr th:only-of-type {\n",
       "        vertical-align: middle;\n",
       "    }\n",
       "\n",
       "    .dataframe tbody tr th {\n",
       "        vertical-align: top;\n",
       "    }\n",
       "\n",
       "    .dataframe thead th {\n",
       "        text-align: right;\n",
       "    }\n",
       "</style>\n",
       "<table border=\"1\" class=\"dataframe\">\n",
       "  <thead>\n",
       "    <tr style=\"text-align: right;\">\n",
       "      <th></th>\n",
       "      <th>F0</th>\n",
       "      <th>F2</th>\n",
       "      <th>F4</th>\n",
       "      <th>F10</th>\n",
       "      <th>F11</th>\n",
       "      <th>F12</th>\n",
       "      <th>K1</th>\n",
       "      <th>K2</th>\n",
       "      <th>K3</th>\n",
       "      <th>K4</th>\n",
       "      <th>...</th>\n",
       "      <th>asian</th>\n",
       "      <th>american</th>\n",
       "      <th>other</th>\n",
       "      <th>Male</th>\n",
       "      <th>Female</th>\n",
       "      <th>asia</th>\n",
       "      <th>europe</th>\n",
       "      <th>north_america</th>\n",
       "      <th>central_america</th>\n",
       "      <th>south_america</th>\n",
       "    </tr>\n",
       "  </thead>\n",
       "  <tbody>\n",
       "    <tr>\n",
       "      <th>0</th>\n",
       "      <td>39.0</td>\n",
       "      <td>77516.0</td>\n",
       "      <td>13.0</td>\n",
       "      <td>2174.0</td>\n",
       "      <td>0.0</td>\n",
       "      <td>40.0</td>\n",
       "      <td>1.0</td>\n",
       "      <td>0.0</td>\n",
       "      <td>0.0</td>\n",
       "      <td>0.0</td>\n",
       "      <td>...</td>\n",
       "      <td>0.0</td>\n",
       "      <td>0.0</td>\n",
       "      <td>0.0</td>\n",
       "      <td>1.0</td>\n",
       "      <td>0.0</td>\n",
       "      <td>0.0</td>\n",
       "      <td>0.0</td>\n",
       "      <td>1.0</td>\n",
       "      <td>0.0</td>\n",
       "      <td>0.0</td>\n",
       "    </tr>\n",
       "    <tr>\n",
       "      <th>1</th>\n",
       "      <td>50.0</td>\n",
       "      <td>83311.0</td>\n",
       "      <td>13.0</td>\n",
       "      <td>0.0</td>\n",
       "      <td>0.0</td>\n",
       "      <td>13.0</td>\n",
       "      <td>0.0</td>\n",
       "      <td>1.0</td>\n",
       "      <td>0.0</td>\n",
       "      <td>0.0</td>\n",
       "      <td>...</td>\n",
       "      <td>0.0</td>\n",
       "      <td>0.0</td>\n",
       "      <td>0.0</td>\n",
       "      <td>1.0</td>\n",
       "      <td>0.0</td>\n",
       "      <td>0.0</td>\n",
       "      <td>0.0</td>\n",
       "      <td>1.0</td>\n",
       "      <td>0.0</td>\n",
       "      <td>0.0</td>\n",
       "    </tr>\n",
       "    <tr>\n",
       "      <th>2</th>\n",
       "      <td>38.0</td>\n",
       "      <td>215646.0</td>\n",
       "      <td>9.0</td>\n",
       "      <td>0.0</td>\n",
       "      <td>0.0</td>\n",
       "      <td>40.0</td>\n",
       "      <td>0.0</td>\n",
       "      <td>0.0</td>\n",
       "      <td>1.0</td>\n",
       "      <td>0.0</td>\n",
       "      <td>...</td>\n",
       "      <td>0.0</td>\n",
       "      <td>0.0</td>\n",
       "      <td>0.0</td>\n",
       "      <td>1.0</td>\n",
       "      <td>0.0</td>\n",
       "      <td>0.0</td>\n",
       "      <td>0.0</td>\n",
       "      <td>1.0</td>\n",
       "      <td>0.0</td>\n",
       "      <td>0.0</td>\n",
       "    </tr>\n",
       "    <tr>\n",
       "      <th>3</th>\n",
       "      <td>53.0</td>\n",
       "      <td>234721.0</td>\n",
       "      <td>7.0</td>\n",
       "      <td>0.0</td>\n",
       "      <td>0.0</td>\n",
       "      <td>40.0</td>\n",
       "      <td>0.0</td>\n",
       "      <td>0.0</td>\n",
       "      <td>1.0</td>\n",
       "      <td>0.0</td>\n",
       "      <td>...</td>\n",
       "      <td>0.0</td>\n",
       "      <td>0.0</td>\n",
       "      <td>0.0</td>\n",
       "      <td>1.0</td>\n",
       "      <td>0.0</td>\n",
       "      <td>0.0</td>\n",
       "      <td>0.0</td>\n",
       "      <td>1.0</td>\n",
       "      <td>0.0</td>\n",
       "      <td>0.0</td>\n",
       "    </tr>\n",
       "    <tr>\n",
       "      <th>4</th>\n",
       "      <td>28.0</td>\n",
       "      <td>338409.0</td>\n",
       "      <td>13.0</td>\n",
       "      <td>0.0</td>\n",
       "      <td>0.0</td>\n",
       "      <td>40.0</td>\n",
       "      <td>0.0</td>\n",
       "      <td>0.0</td>\n",
       "      <td>1.0</td>\n",
       "      <td>0.0</td>\n",
       "      <td>...</td>\n",
       "      <td>0.0</td>\n",
       "      <td>0.0</td>\n",
       "      <td>0.0</td>\n",
       "      <td>0.0</td>\n",
       "      <td>1.0</td>\n",
       "      <td>0.0</td>\n",
       "      <td>0.0</td>\n",
       "      <td>0.0</td>\n",
       "      <td>1.0</td>\n",
       "      <td>0.0</td>\n",
       "    </tr>\n",
       "    <tr>\n",
       "      <th>5</th>\n",
       "      <td>37.0</td>\n",
       "      <td>284582.0</td>\n",
       "      <td>14.0</td>\n",
       "      <td>0.0</td>\n",
       "      <td>0.0</td>\n",
       "      <td>40.0</td>\n",
       "      <td>0.0</td>\n",
       "      <td>0.0</td>\n",
       "      <td>1.0</td>\n",
       "      <td>0.0</td>\n",
       "      <td>...</td>\n",
       "      <td>0.0</td>\n",
       "      <td>0.0</td>\n",
       "      <td>0.0</td>\n",
       "      <td>0.0</td>\n",
       "      <td>1.0</td>\n",
       "      <td>0.0</td>\n",
       "      <td>0.0</td>\n",
       "      <td>1.0</td>\n",
       "      <td>0.0</td>\n",
       "      <td>0.0</td>\n",
       "    </tr>\n",
       "    <tr>\n",
       "      <th>6</th>\n",
       "      <td>49.0</td>\n",
       "      <td>160187.0</td>\n",
       "      <td>5.0</td>\n",
       "      <td>0.0</td>\n",
       "      <td>0.0</td>\n",
       "      <td>16.0</td>\n",
       "      <td>0.0</td>\n",
       "      <td>0.0</td>\n",
       "      <td>1.0</td>\n",
       "      <td>0.0</td>\n",
       "      <td>...</td>\n",
       "      <td>0.0</td>\n",
       "      <td>0.0</td>\n",
       "      <td>0.0</td>\n",
       "      <td>0.0</td>\n",
       "      <td>1.0</td>\n",
       "      <td>0.0</td>\n",
       "      <td>0.0</td>\n",
       "      <td>0.0</td>\n",
       "      <td>1.0</td>\n",
       "      <td>0.0</td>\n",
       "    </tr>\n",
       "    <tr>\n",
       "      <th>7</th>\n",
       "      <td>52.0</td>\n",
       "      <td>209642.0</td>\n",
       "      <td>9.0</td>\n",
       "      <td>0.0</td>\n",
       "      <td>0.0</td>\n",
       "      <td>45.0</td>\n",
       "      <td>0.0</td>\n",
       "      <td>1.0</td>\n",
       "      <td>0.0</td>\n",
       "      <td>0.0</td>\n",
       "      <td>...</td>\n",
       "      <td>0.0</td>\n",
       "      <td>0.0</td>\n",
       "      <td>0.0</td>\n",
       "      <td>1.0</td>\n",
       "      <td>0.0</td>\n",
       "      <td>0.0</td>\n",
       "      <td>0.0</td>\n",
       "      <td>1.0</td>\n",
       "      <td>0.0</td>\n",
       "      <td>0.0</td>\n",
       "    </tr>\n",
       "    <tr>\n",
       "      <th>8</th>\n",
       "      <td>31.0</td>\n",
       "      <td>45781.0</td>\n",
       "      <td>14.0</td>\n",
       "      <td>14084.0</td>\n",
       "      <td>0.0</td>\n",
       "      <td>50.0</td>\n",
       "      <td>0.0</td>\n",
       "      <td>0.0</td>\n",
       "      <td>1.0</td>\n",
       "      <td>0.0</td>\n",
       "      <td>...</td>\n",
       "      <td>0.0</td>\n",
       "      <td>0.0</td>\n",
       "      <td>0.0</td>\n",
       "      <td>0.0</td>\n",
       "      <td>1.0</td>\n",
       "      <td>0.0</td>\n",
       "      <td>0.0</td>\n",
       "      <td>1.0</td>\n",
       "      <td>0.0</td>\n",
       "      <td>0.0</td>\n",
       "    </tr>\n",
       "    <tr>\n",
       "      <th>9</th>\n",
       "      <td>42.0</td>\n",
       "      <td>159449.0</td>\n",
       "      <td>13.0</td>\n",
       "      <td>5178.0</td>\n",
       "      <td>0.0</td>\n",
       "      <td>40.0</td>\n",
       "      <td>0.0</td>\n",
       "      <td>0.0</td>\n",
       "      <td>1.0</td>\n",
       "      <td>0.0</td>\n",
       "      <td>...</td>\n",
       "      <td>0.0</td>\n",
       "      <td>0.0</td>\n",
       "      <td>0.0</td>\n",
       "      <td>1.0</td>\n",
       "      <td>0.0</td>\n",
       "      <td>0.0</td>\n",
       "      <td>0.0</td>\n",
       "      <td>1.0</td>\n",
       "      <td>0.0</td>\n",
       "      <td>0.0</td>\n",
       "    </tr>\n",
       "  </tbody>\n",
       "</table>\n",
       "<p>10 rows × 69 columns</p>\n",
       "</div>"
      ],
      "text/plain": [
       "     F0        F2    F4      F10  F11   F12   K1   K2   K3   K4  ...  asian  \\\n",
       "0  39.0   77516.0  13.0   2174.0  0.0  40.0  1.0  0.0  0.0  0.0  ...    0.0   \n",
       "1  50.0   83311.0  13.0      0.0  0.0  13.0  0.0  1.0  0.0  0.0  ...    0.0   \n",
       "2  38.0  215646.0   9.0      0.0  0.0  40.0  0.0  0.0  1.0  0.0  ...    0.0   \n",
       "3  53.0  234721.0   7.0      0.0  0.0  40.0  0.0  0.0  1.0  0.0  ...    0.0   \n",
       "4  28.0  338409.0  13.0      0.0  0.0  40.0  0.0  0.0  1.0  0.0  ...    0.0   \n",
       "5  37.0  284582.0  14.0      0.0  0.0  40.0  0.0  0.0  1.0  0.0  ...    0.0   \n",
       "6  49.0  160187.0   5.0      0.0  0.0  16.0  0.0  0.0  1.0  0.0  ...    0.0   \n",
       "7  52.0  209642.0   9.0      0.0  0.0  45.0  0.0  1.0  0.0  0.0  ...    0.0   \n",
       "8  31.0   45781.0  14.0  14084.0  0.0  50.0  0.0  0.0  1.0  0.0  ...    0.0   \n",
       "9  42.0  159449.0  13.0   5178.0  0.0  40.0  0.0  0.0  1.0  0.0  ...    0.0   \n",
       "\n",
       "   american  other  Male  Female  asia  europe  north_america  \\\n",
       "0       0.0    0.0   1.0     0.0   0.0     0.0            1.0   \n",
       "1       0.0    0.0   1.0     0.0   0.0     0.0            1.0   \n",
       "2       0.0    0.0   1.0     0.0   0.0     0.0            1.0   \n",
       "3       0.0    0.0   1.0     0.0   0.0     0.0            1.0   \n",
       "4       0.0    0.0   0.0     1.0   0.0     0.0            0.0   \n",
       "5       0.0    0.0   0.0     1.0   0.0     0.0            1.0   \n",
       "6       0.0    0.0   0.0     1.0   0.0     0.0            0.0   \n",
       "7       0.0    0.0   1.0     0.0   0.0     0.0            1.0   \n",
       "8       0.0    0.0   0.0     1.0   0.0     0.0            1.0   \n",
       "9       0.0    0.0   1.0     0.0   0.0     0.0            1.0   \n",
       "\n",
       "   central_america  south_america  \n",
       "0              0.0            0.0  \n",
       "1              0.0            0.0  \n",
       "2              0.0            0.0  \n",
       "3              0.0            0.0  \n",
       "4              1.0            0.0  \n",
       "5              0.0            0.0  \n",
       "6              1.0            0.0  \n",
       "7              0.0            0.0  \n",
       "8              0.0            0.0  \n",
       "9              0.0            0.0  \n",
       "\n",
       "[10 rows x 69 columns]"
      ]
     },
     "execution_count": 15,
     "metadata": {},
     "output_type": "execute_result"
    }
   ],
   "source": [
    "# Unione con il DataFrame di partenza\n",
    "training_set_df_oh = pd.concat([training_set_df, onehot_df], axis = 1)\n",
    "training_set_df_oh = training_set_df_oh.drop(categorical, axis = 1)\n",
    "\n",
    "training_set_df_oh.head(10)"
   ]
  },
  {
   "cell_type": "markdown",
   "metadata": {},
   "source": [
    "### Preprocessing"
   ]
  },
  {
   "cell_type": "markdown",
   "metadata": {},
   "source": [
    "#### Individuazione e rimozione degli outlier\n",
    "Le feature con valori numerici (non binari) vengono graficate con degli istogrammi."
   ]
  },
  {
   "cell_type": "markdown",
   "metadata": {},
   "source": [
    "Prima di tutto si unisce il dataframe relativo al target al training set codificato tramite OneHot.\n",
    "\n",
    "Poi si graficano le feature per trarre le dovute conclusioni."
   ]
  },
  {
   "cell_type": "code",
   "execution_count": 18,
   "metadata": {},
   "outputs": [],
   "source": [
    "# DataFrame con i valori del target\n",
    "y_training_df = pd.DataFrame(y_train, columns = [\"Y\"])"
   ]
  },
  {
   "cell_type": "code",
   "execution_count": 19,
   "metadata": {},
   "outputs": [],
   "source": [
    "# Unione con il DataFrame successivo alla codifica OneHot\n",
    "training_target_df = pd.concat([training_set_df_oh, y_training_df], axis = 1)"
   ]
  },
  {
   "cell_type": "code",
   "execution_count": 20,
   "metadata": {},
   "outputs": [
    {
     "data": {
      "text/plain": [
       "(array([  736.,  2192.,  2317., 17735.,  3119.,  3877.,  1796.,   448.,\n",
       "          202.,   139.]),\n",
       " array([ 1. , 10.8, 20.6, 30.4, 40.2, 50. , 59.8, 69.6, 79.4, 89.2, 99. ]),\n",
       " <BarContainer object of 10 artists>)"
      ]
     },
     "execution_count": 20,
     "metadata": {},
     "output_type": "execute_result"
    },
    {
     "data": {
      "image/png": "[encoded data removed]",
      "text/plain": [
       "<Figure size 2160x360 with 6 Axes>"
      ]
     },
     "metadata": {
      "needs_background": "light"
     },
     "output_type": "display_data"
    }
   ],
   "source": [
    "fig, axs = plt.subplots(1, 6, figsize = (30,5))\n",
    "axs[0].hist(training_target_df.F0)\n",
    "axs[1].hist(training_target_df.F2)\n",
    "axs[2].hist(training_target_df.F4)\n",
    "axs[3].hist(training_target_df.F10)\n",
    "axs[4].hist(training_target_df.F11)\n",
    "axs[5].hist(training_target_df.F12)\n",
    "\n",
    "# L'unico outlier ritenuto rilevante è quello in F2"
   ]
  },
  {
   "cell_type": "markdown",
   "metadata": {},
   "source": [
    "Dai grafici precedenti si evince che nella feature F2 ci sono uno o più outlier, che verranno rimossi con la tecnica che usa *zscore*."
   ]
  },
  {
   "cell_type": "code",
   "execution_count": 21,
   "metadata": {},
   "outputs": [
    {
     "data": {
      "text/html": [
       "<div>\n",
       "<style scoped>\n",
       "    .dataframe tbody tr th:only-of-type {\n",
       "        vertical-align: middle;\n",
       "    }\n",
       "\n",
       "    .dataframe tbody tr th {\n",
       "        vertical-align: top;\n",
       "    }\n",
       "\n",
       "    .dataframe thead th {\n",
       "        text-align: right;\n",
       "    }\n",
       "</style>\n",
       "<table border=\"1\" class=\"dataframe\">\n",
       "  <thead>\n",
       "    <tr style=\"text-align: right;\">\n",
       "      <th></th>\n",
       "      <th>F0</th>\n",
       "      <th>F2</th>\n",
       "      <th>F4</th>\n",
       "      <th>F10</th>\n",
       "      <th>F11</th>\n",
       "      <th>F12</th>\n",
       "      <th>K1</th>\n",
       "      <th>K2</th>\n",
       "      <th>K3</th>\n",
       "      <th>K4</th>\n",
       "      <th>...</th>\n",
       "      <th>american</th>\n",
       "      <th>other</th>\n",
       "      <th>Male</th>\n",
       "      <th>Female</th>\n",
       "      <th>asia</th>\n",
       "      <th>europe</th>\n",
       "      <th>north_america</th>\n",
       "      <th>central_america</th>\n",
       "      <th>south_america</th>\n",
       "      <th>Y</th>\n",
       "    </tr>\n",
       "  </thead>\n",
       "  <tbody>\n",
       "    <tr>\n",
       "      <th>0</th>\n",
       "      <td>39.0</td>\n",
       "      <td>77516.0</td>\n",
       "      <td>13.0</td>\n",
       "      <td>2174.0</td>\n",
       "      <td>0.0</td>\n",
       "      <td>40.0</td>\n",
       "      <td>1.0</td>\n",
       "      <td>0.0</td>\n",
       "      <td>0.0</td>\n",
       "      <td>0.0</td>\n",
       "      <td>...</td>\n",
       "      <td>0.0</td>\n",
       "      <td>0.0</td>\n",
       "      <td>1.0</td>\n",
       "      <td>0.0</td>\n",
       "      <td>0.0</td>\n",
       "      <td>0.0</td>\n",
       "      <td>1.0</td>\n",
       "      <td>0.0</td>\n",
       "      <td>0.0</td>\n",
       "      <td>0</td>\n",
       "    </tr>\n",
       "    <tr>\n",
       "      <th>1</th>\n",
       "      <td>50.0</td>\n",
       "      <td>83311.0</td>\n",
       "      <td>13.0</td>\n",
       "      <td>0.0</td>\n",
       "      <td>0.0</td>\n",
       "      <td>13.0</td>\n",
       "      <td>0.0</td>\n",
       "      <td>1.0</td>\n",
       "      <td>0.0</td>\n",
       "      <td>0.0</td>\n",
       "      <td>...</td>\n",
       "      <td>0.0</td>\n",
       "      <td>0.0</td>\n",
       "      <td>1.0</td>\n",
       "      <td>0.0</td>\n",
       "      <td>0.0</td>\n",
       "      <td>0.0</td>\n",
       "      <td>1.0</td>\n",
       "      <td>0.0</td>\n",
       "      <td>0.0</td>\n",
       "      <td>0</td>\n",
       "    </tr>\n",
       "    <tr>\n",
       "      <th>2</th>\n",
       "      <td>38.0</td>\n",
       "      <td>215646.0</td>\n",
       "      <td>9.0</td>\n",
       "      <td>0.0</td>\n",
       "      <td>0.0</td>\n",
       "      <td>40.0</td>\n",
       "      <td>0.0</td>\n",
       "      <td>0.0</td>\n",
       "      <td>1.0</td>\n",
       "      <td>0.0</td>\n",
       "      <td>...</td>\n",
       "      <td>0.0</td>\n",
       "      <td>0.0</td>\n",
       "      <td>1.0</td>\n",
       "      <td>0.0</td>\n",
       "      <td>0.0</td>\n",
       "      <td>0.0</td>\n",
       "      <td>1.0</td>\n",
       "      <td>0.0</td>\n",
       "      <td>0.0</td>\n",
       "      <td>0</td>\n",
       "    </tr>\n",
       "    <tr>\n",
       "      <th>3</th>\n",
       "      <td>53.0</td>\n",
       "      <td>234721.0</td>\n",
       "      <td>7.0</td>\n",
       "      <td>0.0</td>\n",
       "      <td>0.0</td>\n",
       "      <td>40.0</td>\n",
       "      <td>0.0</td>\n",
       "      <td>0.0</td>\n",
       "      <td>1.0</td>\n",
       "      <td>0.0</td>\n",
       "      <td>...</td>\n",
       "      <td>0.0</td>\n",
       "      <td>0.0</td>\n",
       "      <td>1.0</td>\n",
       "      <td>0.0</td>\n",
       "      <td>0.0</td>\n",
       "      <td>0.0</td>\n",
       "      <td>1.0</td>\n",
       "      <td>0.0</td>\n",
       "      <td>0.0</td>\n",
       "      <td>0</td>\n",
       "    </tr>\n",
       "    <tr>\n",
       "      <th>4</th>\n",
       "      <td>28.0</td>\n",
       "      <td>338409.0</td>\n",
       "      <td>13.0</td>\n",
       "      <td>0.0</td>\n",
       "      <td>0.0</td>\n",
       "      <td>40.0</td>\n",
       "      <td>0.0</td>\n",
       "      <td>0.0</td>\n",
       "      <td>1.0</td>\n",
       "      <td>0.0</td>\n",
       "      <td>...</td>\n",
       "      <td>0.0</td>\n",
       "      <td>0.0</td>\n",
       "      <td>0.0</td>\n",
       "      <td>1.0</td>\n",
       "      <td>0.0</td>\n",
       "      <td>0.0</td>\n",
       "      <td>0.0</td>\n",
       "      <td>1.0</td>\n",
       "      <td>0.0</td>\n",
       "      <td>0</td>\n",
       "    </tr>\n",
       "  </tbody>\n",
       "</table>\n",
       "<p>5 rows × 70 columns</p>\n",
       "</div>"
      ],
      "text/plain": [
       "     F0        F2    F4     F10  F11   F12   K1   K2   K3   K4  ...  american  \\\n",
       "0  39.0   77516.0  13.0  2174.0  0.0  40.0  1.0  0.0  0.0  0.0  ...       0.0   \n",
       "1  50.0   83311.0  13.0     0.0  0.0  13.0  0.0  1.0  0.0  0.0  ...       0.0   \n",
       "2  38.0  215646.0   9.0     0.0  0.0  40.0  0.0  0.0  1.0  0.0  ...       0.0   \n",
       "3  53.0  234721.0   7.0     0.0  0.0  40.0  0.0  0.0  1.0  0.0  ...       0.0   \n",
       "4  28.0  338409.0  13.0     0.0  0.0  40.0  0.0  0.0  1.0  0.0  ...       0.0   \n",
       "\n",
       "   other  Male  Female  asia  europe  north_america  central_america  \\\n",
       "0    0.0   1.0     0.0   0.0     0.0            1.0              0.0   \n",
       "1    0.0   1.0     0.0   0.0     0.0            1.0              0.0   \n",
       "2    0.0   1.0     0.0   0.0     0.0            1.0              0.0   \n",
       "3    0.0   1.0     0.0   0.0     0.0            1.0              0.0   \n",
       "4    0.0   0.0     1.0   0.0     0.0            0.0              1.0   \n",
       "\n",
       "   south_america  Y  \n",
       "0            0.0  0  \n",
       "1            0.0  0  \n",
       "2            0.0  0  \n",
       "3            0.0  0  \n",
       "4            0.0  0  \n",
       "\n",
       "[5 rows x 70 columns]"
      ]
     },
     "execution_count": 21,
     "metadata": {},
     "output_type": "execute_result"
    }
   ],
   "source": [
    "# Individuazione e rimozione degli outlier (in F2) nel training set\n",
    "z_scores = stats.zscore(training_target_df[\"F2\"])\n",
    "abs_z_scores = np.abs(z_scores)\n",
    "filtered_entries = (abs_z_scores < 3)\n",
    "training_target_df = training_target_df[filtered_entries]\n",
    "\n",
    "training_target_df.head()"
   ]
  },
  {
   "cell_type": "code",
   "execution_count": 22,
   "metadata": {},
   "outputs": [
    {
     "data": {
      "text/plain": [
       "<AxesSubplot:ylabel='Frequency'>"
      ]
     },
     "execution_count": 22,
     "metadata": {},
     "output_type": "execute_result"
    },
    {
     "data": {
      "image/png": "[encoded data removed]",
      "text/plain": [
       "<Figure size 432x288 with 1 Axes>"
      ]
     },
     "metadata": {
      "needs_background": "light"
     },
     "output_type": "display_data"
    }
   ],
   "source": [
    "# Verifica rimozione outlier\n",
    "training_target_df[\"F2\"].plot.hist()"
   ]
  },
  {
   "cell_type": "markdown",
   "metadata": {},
   "source": [
    "Dal dataframe a cui sono stati rimossi gli outliers si ricavano i nuovi x_train e y_train."
   ]
  },
  {
   "cell_type": "code",
   "execution_count": 23,
   "metadata": {},
   "outputs": [
    {
     "name": "stdout",
     "output_type": "stream",
     "text": [
      "(32214, 69)\n",
      "(32214,)\n"
     ]
    }
   ],
   "source": [
    "# Si ricavano x_train e y_train da questo DataFrame\n",
    "x_train_notnan = training_target_df.iloc[:, :-1].values\n",
    "print(x_train_notnan.shape)\n",
    "y_train = training_target_df.iloc[:, -1].values\n",
    "print(y_train.shape)"
   ]
  },
  {
   "cell_type": "markdown",
   "metadata": {},
   "source": [
    "#### Scaling\n",
    "\n",
    "Scalare i dati serve a migliorare il comportamento degli algoritmi di learning, dal momento che i dati potrebbero avere valori di tipi diversi tra loro. Valori troppo grandi possono comportarsi da outlier e stravolgere il funzionamento di un algoritmo.\n",
    "\n",
    "Per scalare i dati si utilizza la normalizzazione attraverso lo *StandardScaler* offerto da sklearn, che normalizza le feature rimuovendo la media e scalando a varianza unitaria.\n",
    "\n",
    "Il valore normalizzato di x è calcolato come: $$x = \\frac{z-u}{S}$$\n",
    "\n",
    "*StandardScaler* è stato preferito agli altri scaler poiché computazionalmente conveniente, oltre al fatto che i risultati erano pressoché identici."
   ]
  },
  {
   "cell_type": "code",
   "execution_count": 24,
   "metadata": {},
   "outputs": [
    {
     "name": "stdout",
     "output_type": "stream",
     "text": [
      "StandardScaler\n",
      "Media distribuzione di partenza: [3.86152604e+01 1.85068537e+05 1.00848078e+01 1.07945136e+03\n",
      " 8.76844229e+01 4.04416713e+01 3.98894890e-02 7.84751971e-02\n",
      " 7.52747253e-01 2.94281989e-02 6.43198609e-02 3.44881108e-02\n",
      " 4.34593655e-04 2.17296827e-04 1.64276402e-01 3.22437450e-01\n",
      " 3.61023158e-02 5.29583411e-02 1.56764140e-02 2.24033029e-01\n",
      " 3.29980754e-02 4.26522630e-02 1.98981809e-02 1.27584280e-02\n",
      " 1.78183399e-02 1.01198237e-02 2.85279692e-02 5.09095424e-03\n",
      " 1.52107779e-03 1.31309369e-02 3.27745701e-01 4.60389893e-01\n",
      " 1.36524492e-01 1.27894704e-02 3.12597008e-02 6.82932886e-04\n",
      " 3.06078103e-02 1.15663997e-01 1.25038803e-01 4.18451605e-02\n",
      " 1.84298752e-01 1.01136152e-01 1.12342460e-01 1.25628609e-01\n",
      " 4.88607438e-02 3.04525982e-02 6.15570870e-02 2.84037996e-02\n",
      " 1.99292233e-02 2.79381635e-04 4.56323338e-03 2.55044391e-01\n",
      " 4.05475880e-01 4.82709381e-02 1.55553486e-01 1.05606258e-01\n",
      " 3.00490470e-02 8.55776991e-01 9.39032719e-02 3.22530577e-02\n",
      " 9.65418762e-03 8.41249146e-03 6.68932762e-01 3.31067238e-01\n",
      " 2.32197181e-02 1.60799652e-02 9.18606817e-01 3.85546657e-02\n",
      " 3.53883405e-03]\n",
      "Media distribuzione scalata: [ 1.70279690e-16  2.07335373e-17 -3.44750201e-16 -2.24980937e-17\n",
      "  7.49936457e-18 -2.22334102e-16  8.05078843e-18  8.38164275e-18\n",
      "  9.08746530e-17  4.85253001e-18  8.82278184e-19  5.36535421e-17\n",
      " -1.85278419e-17  8.16107321e-18  7.94050366e-18  5.73480820e-17\n",
      "  2.05129678e-17 -2.47037892e-17 -3.61734056e-17 -1.77558485e-17\n",
      "  5.29366911e-17  9.04335139e-17  5.55835256e-17 -6.16491881e-17\n",
      " -1.19107555e-17 -5.29366911e-17 -1.43370205e-18  2.91151801e-17\n",
      " -2.64683455e-18  2.82329019e-17  3.66145447e-17  3.08797365e-18\n",
      " -2.47037892e-17  7.05822547e-18  1.19107555e-17 -1.54398682e-17\n",
      " -5.75686515e-17 -8.82278184e-18 -1.41164509e-17  3.35265710e-17\n",
      "  3.67248294e-17 -2.60272064e-17 -1.21313250e-18  4.76430220e-17\n",
      "  4.41139092e-17 -4.62093199e-17  6.19800425e-17  2.33803719e-17\n",
      "  2.82329019e-17 -1.10284773e-19 -1.72044246e-17  1.12931608e-16\n",
      "  1.48663874e-16  1.67632855e-17 -3.02180278e-17  3.46294187e-17\n",
      "  3.52911274e-18  4.58784656e-17 -8.38164275e-18  5.29366911e-18\n",
      "  2.28289480e-17  1.85278419e-17 -5.58040952e-17  5.58040952e-17\n",
      "  2.24980937e-17 -4.19082138e-17  2.10423347e-16 -4.45550483e-17\n",
      "  3.74968228e-17]\n",
      "Deviazione standard distribuzione di partenza: [1.36513127e+01 9.45533835e+04 2.57050760e+00 7.39920498e+03\n",
      " 4.03880656e+02 1.23562196e+01 1.95699560e-01 2.68917907e-01\n",
      " 4.31414912e-01 1.69003491e-01 2.45321863e-01 1.82479262e-01\n",
      " 2.08423795e-02 1.47393897e-02 3.70526201e-01 4.67409393e-01\n",
      " 1.86544736e-01 2.23950341e-01 1.24220224e-01 4.16943918e-01\n",
      " 1.78631471e-01 2.02071887e-01 1.39650433e-01 1.12230346e-01\n",
      " 1.32290765e-01 1.00087026e-01 1.66475596e-01 7.11690693e-02\n",
      " 3.89713243e-02 1.13835475e-01 4.69391581e-01 4.98428570e-01\n",
      " 3.43344660e-01 1.12365030e-01 1.74018769e-01 2.61240596e-02\n",
      " 1.72252641e-01 3.19821570e-01 3.30762907e-01 2.00235219e-01\n",
      " 3.87727639e-01 3.01508923e-01 3.15787320e-01 3.31430327e-01\n",
      " 2.15576834e-01 1.71829094e-01 2.40349354e-01 1.66123520e-01\n",
      " 1.39757109e-01 1.67123781e-02 6.73974056e-02 4.35886166e-01\n",
      " 4.90983901e-01 2.14338178e-01 3.62431509e-01 3.07333006e-01\n",
      " 1.70722294e-01 3.51315716e-01 2.91694099e-01 1.76671441e-01\n",
      " 9.77802858e-02 9.13330250e-02 4.70597197e-01 4.70597197e-01\n",
      " 1.50600673e-01 1.25783147e-01 2.73437987e-01 1.92531045e-01\n",
      " 5.93827475e-02]\n",
      "Deviazione standard distribuzione scalata: [1. 1. 1. 1. 1. 1. 1. 1. 1. 1. 1. 1. 1. 1. 1. 1. 1. 1. 1. 1. 1. 1. 1. 1.\n",
      " 1. 1. 1. 1. 1. 1. 1. 1. 1. 1. 1. 1. 1. 1. 1. 1. 1. 1. 1. 1. 1. 1. 1. 1.\n",
      " 1. 1. 1. 1. 1. 1. 1. 1. 1. 1. 1. 1. 1. 1. 1. 1. 1. 1. 1. 1. 1.]\n"
     ]
    }
   ],
   "source": [
    "# Scaling con StandardScaler\n",
    "print(\"StandardScaler\")\n",
    "scaler = StandardScaler()\n",
    "x_train_scaled = scaler.fit_transform(x_train_notnan)\n",
    "\n",
    "print(\"Media distribuzione di partenza: {}\".format(np.mean(x_train_notnan, axis=0)))\n",
    "print(\"Media distribuzione scalata: {}\".format(np.mean(x_train_scaled, axis=0)))\n",
    "\n",
    "print(\"Deviazione standard distribuzione di partenza: {}\".format(np.std(x_train_notnan, axis=0)))\n",
    "print(\"Deviazione standard distribuzione scalata: {}\".format(np.std(x_train_scaled, axis=0)))"
   ]
  },
  {
   "cell_type": "markdown",
   "metadata": {},
   "source": [
    "#### Bilanciamento\n",
    "Dopo aver illustrato la proporzione di 1 e 0 nel target (di training e test set) con degli istogrammi, si è ritenuto opportuno effettuare un bilanciamento.\n",
    "\n",
    "Quest'ultimo è stato realizzato con la tecnica di oversampling SMOTE."
   ]
  },
  {
   "cell_type": "code",
   "execution_count": 25,
   "metadata": {},
   "outputs": [
    {
     "data": {
      "text/plain": [
       "array([[<AxesSubplot:title={'center':'Y'}>]], dtype=object)"
      ]
     },
     "execution_count": 25,
     "metadata": {},
     "output_type": "execute_result"
    },
    {
     "data": {
      "image/png": "[encoded data removed]",
      "text/plain": [
       "<Figure size 432x288 with 1 Axes>"
      ]
     },
     "metadata": {
      "needs_background": "light"
     },
     "output_type": "display_data"
    }
   ],
   "source": [
    "# Controllo bilanciamento y_train\n",
    "y_training_df = pd.DataFrame(y_train, columns = [\"Y\"])\n",
    "y_training_df.hist()"
   ]
  },
  {
   "cell_type": "markdown",
   "metadata": {},
   "source": [
    "SMOTE (Synthetic Minority Oversampling Technique): serve ad aumentare la dimensione della classe minoritaria creando dati sintetici, creati in base a formule e algoritmi di clustering sui dati presenti."
   ]
  },
  {
   "cell_type": "code",
   "execution_count": 26,
   "metadata": {},
   "outputs": [
    {
     "name": "stdout",
     "output_type": "stream",
     "text": [
      "(48906, 69) (48906,)\n",
      "[[ 0.02818334 -1.13747952  1.13409202 ...  0.29766597 -0.20025168\n",
      "  -0.05959364]\n",
      " [ 0.83396665 -1.07619139  1.13409202 ...  0.29766597 -0.20025168\n",
      "  -0.05959364]\n",
      " [-0.04506969  0.32338835 -0.42202087 ...  0.29766597 -0.20025168\n",
      "  -0.05959364]\n",
      " ...\n",
      " [-0.69084479 -1.60377104 -0.42202087 ...  0.29766597 -0.20025168\n",
      "  -0.05959364]\n",
      " [-0.02490731  0.87173017  0.7450638  ...  0.29766597 -0.20025168\n",
      "  -0.05959364]\n",
      " [ 0.68179709 -0.12037052 -0.42202087 ...  0.29766597 -0.20025168\n",
      "  -0.05959364]]\n"
     ]
    }
   ],
   "source": [
    "# Bilanciamento del training set\n",
    "smote = SMOTE(random_state = 0, sampling_strategy = 'not majority', k_neighbors = 10, n_jobs = -1)\n",
    "x_train_scaled, y_train = smote.fit_resample(x_train_scaled, y_train)\n",
    "print(x_train_scaled.shape, y_train.shape)\n",
    "print(x_train_scaled)"
   ]
  },
  {
   "cell_type": "code",
   "execution_count": 27,
   "metadata": {},
   "outputs": [
    {
     "data": {
      "text/plain": [
       "array([[<AxesSubplot:title={'center':'Y'}>]], dtype=object)"
      ]
     },
     "execution_count": 27,
     "metadata": {},
     "output_type": "execute_result"
    },
    {
     "data": {
      "image/png": "[encoded data removed]",
      "text/plain": [
       "<Figure size 432x288 with 1 Axes>"
      ]
     },
     "metadata": {
      "needs_background": "light"
     },
     "output_type": "display_data"
    }
   ],
   "source": [
    "# DataFrame del target bilanciato, con controllo\n",
    "y_training_df = pd.DataFrame(y_train, columns = [\"Y\"])\n",
    "y_training_df.hist()"
   ]
  },
  {
   "cell_type": "markdown",
   "metadata": {},
   "source": [
    "### Classificazione"
   ]
  },
  {
   "cell_type": "markdown",
   "metadata": {},
   "source": [
    "#### AdaBoost\n",
    "\n",
    "In questa implementazione di Adaboost abbiamo usato la funzione *GridSearchCV*, che prende in input delle liste di parametri ed effettua una ricerca in base ai parametri passati in *grid*.\n",
    "\n",
    "Per l'addestramento con ogni singola combinazione dei parametri è stato usato *RepeatedStratifiedKFold*. In questo caso si è scelta una 1-time 5-fold cross validation. Infine viene comunicato il risultato migliore e con quale configurazione di iperparametri è stato ottenuto.\n",
    "\n",
    "AdaBoost è stato preferito rispetto a classificatori di altro tipo analizzati (SVM e Random Forest) per una mera questione di maggiore accuratezza della predizione sul training set.\n",
    "\n",
    "Lo stimatore di base scelto per AdaBoost è basato su alberi di decisione, poiché risultato migliore di quello basato su regressione logistica durante l'analisi.\n",
    "\n",
    "In particolare i parametri immessi in *GridSearchCV* sono: una lista del numero di stimatori, una lista di learning rate da utilizzare e i parametri dello stimatore di base (massima profondità, il minimo numero di campioni per fare split su un nodo interno o per far sì che un nodo sia una foglia).\n",
    "\n",
    "Il valore stampato indica l'accuracy della predizione (in percentuale) sul training set, insieme ai parametri migliori."
   ]
  },
  {
   "cell_type": "code",
   "execution_count": 19,
   "metadata": {},
   "outputs": [
    {
     "name": "stdout",
     "output_type": "stream",
     "text": [
      "Best: 0.912792 using {'base_estimator__max_depth': 2, 'base_estimator__min_samples_leaf': 2, 'base_estimator__min_samples_split': 2, 'learning_rate': 0.1, 'n_estimators': 1000}\n"
     ]
    }
   ],
   "source": [
    "# Classificazione mediante AdaBoostClassifier\n",
    "classifierADA = AdaBoostClassifier(base_estimator = DecisionTreeClassifier())\n",
    "\n",
    "grid = dict()\n",
    "grid['n_estimators'] =  [100, 500, 1000]\n",
    "grid['learning_rate'] = [.01, .1, 1]\n",
    "grid['base_estimator__max_depth'] = [2, 5]\n",
    "grid['base_estimator__min_samples_split'] = [2, 5]\n",
    "grid['base_estimator__min_samples_leaf'] = [2, 5, 10]\n",
    "\n",
    "# Impostazione K-Fold Cross Validation con K = 5\n",
    "cv = RepeatedStratifiedKFold(n_splits = 5, n_repeats = 1, random_state = 1)\n",
    "\n",
    "# Procedura Grid Search\n",
    "grid_search = GridSearchCV(estimator = classifierADA, param_grid = grid, n_jobs = -1, cv = cv, scoring = 'accuracy')\n",
    "grid_fit = grid_search.fit(x_train_scaled, y_train)\n",
    "\n",
    "# Individuazione miglior modello\n",
    "print(\"Best: %f using %s\" % (grid_fit.best_score_ , grid_fit.best_params_))"
   ]
  },
  {
   "cell_type": "markdown",
   "metadata": {},
   "source": [
    "Viene istanziato il miglior classificatore inserendo i parametri forniti in output dalla cella precedente."
   ]
  },
  {
   "cell_type": "code",
   "execution_count": 21,
   "metadata": {},
   "outputs": [],
   "source": [
    "# Istanziazione del miglior classificatore\n",
    "bestclf = AdaBoostClassifier(base_estimator = DecisionTreeClassifier(max_depth = 2, min_samples_split = 2, min_samples_leaf = 2), learning_rate = 0.1, n_estimators = 1000)"
   ]
  },
  {
   "cell_type": "markdown",
   "metadata": {},
   "source": [
    "Il classificatore appena creato viene addestrato sul training set.\n",
    "\n",
    "Inoltre si fa il predict e si graficano i risultati con una matrice di confusione che illustra il numero di TP, TN, FP, FN."
   ]
  },
  {
   "cell_type": "code",
   "execution_count": 22,
   "metadata": {},
   "outputs": [
    {
     "data": {
      "text/plain": [
       "AdaBoostClassifier(base_estimator=DecisionTreeClassifier(max_depth=2,\n",
       "                                                         min_samples_leaf=2),\n",
       "                   learning_rate=0.1, n_estimators=1000)"
      ]
     },
     "execution_count": 22,
     "metadata": {},
     "output_type": "execute_result"
    }
   ],
   "source": [
    "# Addestramento del miglior classificatore sul training set\n",
    "bestclf.fit(x_train_scaled, y_train)"
   ]
  },
  {
   "cell_type": "code",
   "execution_count": 23,
   "metadata": {},
   "outputs": [],
   "source": [
    "# Predizione sul training set\n",
    "y_pred = bestclf.predict(x_train_scaled)"
   ]
  },
  {
   "cell_type": "code",
   "execution_count": 24,
   "metadata": {},
   "outputs": [
    {
     "name": "stdout",
     "output_type": "stream",
     "text": [
      "0.9185171553592606\n"
     ]
    },
    {
     "data": {
      "image/png": "[encoded data removed]",
      "text/plain": [
       "<Figure size 432x288 with 2 Axes>"
      ]
     },
     "metadata": {
      "needs_background": "light"
     },
     "output_type": "display_data"
    }
   ],
   "source": [
    "# Visualizzazione risultati sul training set (accuratezza)\n",
    "CM_ADA = confusion_matrix(y_train, y_pred)\n",
    "PercADA = (CM_ADA[0,0] + CM_ADA[1,1])/CM_ADA.sum()\n",
    "\n",
    "cmd = ConfusionMatrixDisplay(CM_ADA)\n",
    "cmd.plot(cmap = \"Oranges\")\n",
    "\n",
    "print(PercADA)"
   ]
  },
  {
   "cell_type": "markdown",
   "metadata": {},
   "source": [
    "### Dump degli oggetti\n",
    "Si rendono persistenti tutti gli oggetti che sono stati addestrati: imputer di valori NaN, scaler, classificatore e la lista di codificatori OneHot."
   ]
  },
  {
   "cell_type": "code",
   "execution_count": 25,
   "metadata": {},
   "outputs": [],
   "source": [
    "# Salvo tutti gli oggetti addestrati\n",
    "joblib.dump(imp, \"pickles/imputer.pkl\")\n",
    "joblib.dump(scaler, \"pickles/scaler.pkl\")\n",
    "joblib.dump(bestclf, \"pickles/model.pkl\")\n",
    "for i in range(len(onehot_encoders)):\n",
    "    joblib.dump(onehot_encoders[i], f\"pickles/ohenc-ohe{i}.pkl\")"
   ]
  }
 ],
 "metadata": {
  "kernelspec": {
   "display_name": "Python 3.9.12 ('base')",
   "language": "python",
   "name": "python3"
  },
  "language_info": {
   "codemirror_mode": {
    "name": "ipython",
    "version": 3
   },
   "file_extension": ".py",
   "mimetype": "text/x-python",
   "name": "python",
   "nbconvert_exporter": "python",
   "pygments_lexer": "ipython3",
   "version": "3.9.12"
  },
  "orig_nbformat": 4,
  "vscode": {
   "interpreter": {
    "hash": "b304063b9b5915891955c97f76410147208ba9c12388cc88c2e2efd4c5613ee8"
   }
  }
 },
 "nbformat": 4,
 "nbformat_minor": 2
}
